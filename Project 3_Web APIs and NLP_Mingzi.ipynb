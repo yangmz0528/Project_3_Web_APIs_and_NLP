{
 "cells": [
  {
   "cell_type": "markdown",
   "id": "b9a7cf86",
   "metadata": {},
   "source": [
    "# Project 3 - Web APIs and NLP: Analysis on Subreddit Post of Auto Chess and Teamfight Tactics\n",
    "\n",
    "*Primary Learning Objectives:*\n",
    "  - Using Pushshift's API to collect posts from two subreddits: AutoChess and Teamfight Tactics\n",
    "  - Use NLP to train a classifier on which subreddit a given post came from. (Binary Classification)"
   ]
  },
  {
   "cell_type": "markdown",
   "id": "d31f4c0b",
   "metadata": {},
   "source": [
    "## Problem Statement"
   ]
  },
  {
   "cell_type": "markdown",
   "id": "81c495cc",
   "metadata": {},
   "source": [
    "To use NLP to train on classifier to identify which post belongs to which subreddit, Auto Chess or Teamfight Tactics.\n"
   ]
  },
  {
   "cell_type": "markdown",
   "id": "e2a69249",
   "metadata": {},
   "source": [
    "## Background"
   ]
  },
  {
   "cell_type": "markdown",
   "id": "8d6e5fb0",
   "metadata": {},
   "source": [
    "Both Auto Chess and Teamfight Tactics and auto battler games whereby eight players will battle online with chess peices. Players will have to buy units with in-game gold, place them on a hexagonal/squared board and watch them autonomously battle against enermy players. Players will buy units from a shared unit pool and as the game goes on, players are able to place more units by leveling up, get better units and upgrade existing units. Players will lose health when losing around and deal damage if winning the round. The last player standing wins.\n",
    "\n",
    "Auto Chess's subreddit has 40.6k members while Teamfight Tactics's subreddit has a total of 286k member, 7 times more than Auto Chess subreddit community."
   ]
  },
  {
   "cell_type": "markdown",
   "id": "19f3ce37",
   "metadata": {},
   "source": [
    "### General Flow\n",
    "\n",
    "1. Obtain data from subreddit using Pushshift's API\n",
    "2. Exploratory Data Analysis \n",
    "    - 2.1 Data Cleaning\n",
    "    - 2.2 Detailed text preprocessing\n",
    "    - 2.3 Lemmatization\n",
    "    - 2.4 Create Word Cloud\n",
    "3. Modelling Random Forest\n",
    "    - 3.1 CountVectorizer vs TF-IDF Vectorizer\n",
    "    - 3.2 Random Forest hyperparameter tuning\n",
    "    - 3.3 Naive Bayes\n",
    "    - 3.4 Logistic Regression\n",
    "4. Evaluation\n",
    "5. Conclusion and Recommendation"
   ]
  },
  {
   "cell_type": "code",
   "execution_count": 1,
   "id": "e0a746ce",
   "metadata": {},
   "outputs": [
    {
     "name": "stderr",
     "output_type": "stream",
     "text": [
      "C:\\Users\\Mingzi\\AppData\\Local\\Temp/ipykernel_19388/3993909432.py:18: FutureWarning: Passing a negative integer is deprecated in version 1.0 and will not be supported in future version. Instead, use None to not limit the column width.\n",
      "  pd.set_option(\"display.max_colwidth\", -1)\n"
     ]
    }
   ],
   "source": [
    "#import libraries\n",
    "import requests\n",
    "import pandas as pd\n",
    "import numpy as np\n",
    "import matplotlib.pyplot as plt\n",
    "import time\n",
    "\n",
    "from sklearn.pipeline import Pipeline\n",
    "from sklearn.naive_bayes import MultinomialNB\n",
    "from nltk.stem import WordNetLemmatizer\n",
    "from nltk.tokenize import word_tokenize\n",
    "from wordcloud import WordCloud, ImageColorGenerator\n",
    "from sklearn.feature_extraction.text import CountVectorizer, TfidfVectorizer\n",
    "from sklearn.ensemble import RandomForestClassifier\n",
    "from sklearn.model_selection import train_test_split, cross_val_score, GridSearchCV\n",
    "from sklearn.metrics import confusion_matrix, plot_confusion_matrix\n",
    "\n",
    "pd.set_option(\"display.max_colwidth\", -1)\n"
   ]
  },
  {
   "cell_type": "markdown",
   "id": "ccf11c36",
   "metadata": {},
   "source": [
    "## 1. Obtain data from subreddits using Pushshift's API"
   ]
  },
  {
   "cell_type": "markdown",
   "id": "d1ac2dd9",
   "metadata": {},
   "source": [
    "This will scrap about 2000 posts from each subreddits, Auto Chess and Teamfight Tactics."
   ]
  },
  {
   "cell_type": "markdown",
   "id": "3d0c1add",
   "metadata": {},
   "source": [
    "```\n",
    "#Create function for obtaining data\n",
    "\n",
    "url = 'https://api.pushshift.io/reddit/search/submission'\n",
    "\n",
    "def get_data(subreddit, url, data_name):\n",
    "    df_final =  pd.DataFrame(columns=['subreddit', 'selftext', 'title'])\n",
    "    for i in range(1,21):\n",
    "        if i==1:\n",
    "            params = {'subreddit': subreddit, \n",
    "                      'size': 100}\n",
    "        else:\n",
    "            params = {'subreddit': subreddit, \n",
    "                      'size': 100,\n",
    "                      'before': before}\n",
    "        \n",
    "        res = requests.get(url, params)\n",
    "        data = res.json()\n",
    "        posts = data['data']\n",
    "        df = pd.DataFrame(posts)\n",
    "        df = df[['subreddit', 'selftext', 'title']]\n",
    "        df_final = pd.concat([df_final, df])\n",
    "        before = posts[-1]['created_utc']\n",
    "        time.sleep(1)\n",
    "    \n",
    "    #Save the DataFrame as a .csv file:\n",
    "    df_final.to_csv('./Created_data/'+str(data_name), index = False, sep = \",\")\n",
    "    \n",
    "    \n"
   ]
  },
  {
   "cell_type": "markdown",
   "id": "7fdd9818",
   "metadata": {},
   "source": [
    "```\n",
    "# Get data for AutoChess\n",
    "\n",
    "get_data('AutoChess', url, 'auto_chess')\n"
   ]
  },
  {
   "cell_type": "code",
   "execution_count": 2,
   "id": "47e183f4",
   "metadata": {},
   "outputs": [
    {
     "data": {
      "text/html": [
       "<div>\n",
       "<style scoped>\n",
       "    .dataframe tbody tr th:only-of-type {\n",
       "        vertical-align: middle;\n",
       "    }\n",
       "\n",
       "    .dataframe tbody tr th {\n",
       "        vertical-align: top;\n",
       "    }\n",
       "\n",
       "    .dataframe thead th {\n",
       "        text-align: right;\n",
       "    }\n",
       "</style>\n",
       "<table border=\"1\" class=\"dataframe\">\n",
       "  <thead>\n",
       "    <tr style=\"text-align: right;\">\n",
       "      <th></th>\n",
       "      <th>subreddit</th>\n",
       "      <th>selftext</th>\n",
       "      <th>title</th>\n",
       "    </tr>\n",
       "  </thead>\n",
       "  <tbody>\n",
       "    <tr>\n",
       "      <th>0</th>\n",
       "      <td>AutoChess</td>\n",
       "      <td>Few things I just noticed with quick mode after this patch:\\n- No ability to see what legendary chars are available\\n- Looks like Auto Magi and Otter are just straight gone from lineup (probably many others\\n- No way to do 6-Mage or Beast builds, monkey king gone as well.\\n\\nWhy the heck was none of this mentioned in the patch notes???</td>\n",
       "      <td>Quick mode super broken now</td>\n",
       "    </tr>\n",
       "    <tr>\n",
       "      <th>1</th>\n",
       "      <td>AutoChess</td>\n",
       "      <td>I've deleted and re-downloaded. Trying again this last time. Anyone else dealt with this?</td>\n",
       "      <td>Playstation 4. Cannot play, loading screen keeps ending in blue screen.</td>\n",
       "    </tr>\n",
       "    <tr>\n",
       "      <th>2</th>\n",
       "      <td>AutoChess</td>\n",
       "      <td>NaN</td>\n",
       "      <td>6 warlock/god Argali back on the menu 🔥 (King-1 Ranked)</td>\n",
       "    </tr>\n",
       "    <tr>\n",
       "      <th>3</th>\n",
       "      <td>AutoChess</td>\n",
       "      <td>Hello everyone. I am a Gmail account I tried to bind my account to dragonest account but I have created another account on dragonest instead of binding on the same email. Is there any way I can delete that account and bind my original account of Gmail to dragonest. Any help would be appreciated thanks in advance</td>\n",
       "      <td>query about linking my account to dragonest account</td>\n",
       "    </tr>\n",
       "    <tr>\n",
       "      <th>4</th>\n",
       "      <td>AutoChess</td>\n",
       "      <td>I have just recently got into the game and wanted to test a few things and want it to go faster than other modes so I play Quick mode a lot. What I have noticed is that it seems like all I go up against are bots? Like they have decently unique names, state they are from different countries, mobile and PC etc. In quick mode, you don't gain interest at all so it is pointless to keep building up your coins, you need to just spend as soon as you can to get 3 stars fast. But I keep realizing that I am winning almost every game and I go to look at opponents and they have like 60 gold when they lose and don't distribute their items at all. I am account level 17 so I shouldn't be playing bots right?</td>\n",
       "      <td>Quick Mode, is it just bots?</td>\n",
       "    </tr>\n",
       "  </tbody>\n",
       "</table>\n",
       "</div>"
      ],
      "text/plain": [
       "   subreddit  \\\n",
       "0  AutoChess   \n",
       "1  AutoChess   \n",
       "2  AutoChess   \n",
       "3  AutoChess   \n",
       "4  AutoChess   \n",
       "\n",
       "                                                                                                                                                                                                                                                                                                                                                                                                                                                                                                                                                                                                                                                                                                                       selftext  \\\n",
       "0  Few things I just noticed with quick mode after this patch:\\n- No ability to see what legendary chars are available\\n- Looks like Auto Magi and Otter are just straight gone from lineup (probably many others\\n- No way to do 6-Mage or Beast builds, monkey king gone as well.\\n\\nWhy the heck was none of this mentioned in the patch notes???                                                                                                                                                                                                                                                                                                                                                                              \n",
       "1  I've deleted and re-downloaded. Trying again this last time. Anyone else dealt with this?                                                                                                                                                                                                                                                                                                                                                                                                                                                                                                                                                                                                                                      \n",
       "2  NaN                                                                                                                                                                                                                                                                                                                                                                                                                                                                                                                                                                                                                                                                                                                            \n",
       "3  Hello everyone. I am a Gmail account I tried to bind my account to dragonest account but I have created another account on dragonest instead of binding on the same email. Is there any way I can delete that account and bind my original account of Gmail to dragonest. Any help would be appreciated thanks in advance                                                                                                                                                                                                                                                                                                                                                                                                      \n",
       "4  I have just recently got into the game and wanted to test a few things and want it to go faster than other modes so I play Quick mode a lot. What I have noticed is that it seems like all I go up against are bots? Like they have decently unique names, state they are from different countries, mobile and PC etc. In quick mode, you don't gain interest at all so it is pointless to keep building up your coins, you need to just spend as soon as you can to get 3 stars fast. But I keep realizing that I am winning almost every game and I go to look at opponents and they have like 60 gold when they lose and don't distribute their items at all. I am account level 17 so I shouldn't be playing bots right?   \n",
       "\n",
       "                                                                     title  \n",
       "0  Quick mode super broken now                                              \n",
       "1  Playstation 4. Cannot play, loading screen keeps ending in blue screen.  \n",
       "2  6 warlock/god Argali back on the menu 🔥 (King-1 Ranked)                  \n",
       "3  query about linking my account to dragonest account                      \n",
       "4  Quick Mode, is it just bots?                                             "
      ]
     },
     "execution_count": 2,
     "metadata": {},
     "output_type": "execute_result"
    }
   ],
   "source": [
    "autochess_df = pd.read_csv('./created_data/auto_chess')\n",
    "autochess_df.head()"
   ]
  },
  {
   "cell_type": "code",
   "execution_count": 3,
   "id": "30205fe2",
   "metadata": {},
   "outputs": [
    {
     "data": {
      "text/plain": [
       "(1999, 3)"
      ]
     },
     "execution_count": 3,
     "metadata": {},
     "output_type": "execute_result"
    }
   ],
   "source": [
    "autochess_df.shape"
   ]
  },
  {
   "cell_type": "markdown",
   "id": "a5554550",
   "metadata": {},
   "source": [
    "```\n",
    "# Get data for TeamfightTactics\n",
    "\n",
    "get_data('TeamfightTactics', url, 'tft')\n",
    "\n",
    "```\n"
   ]
  },
  {
   "cell_type": "code",
   "execution_count": 4,
   "id": "4e153bcb",
   "metadata": {},
   "outputs": [
    {
     "data": {
      "text/html": [
       "<div>\n",
       "<style scoped>\n",
       "    .dataframe tbody tr th:only-of-type {\n",
       "        vertical-align: middle;\n",
       "    }\n",
       "\n",
       "    .dataframe tbody tr th {\n",
       "        vertical-align: top;\n",
       "    }\n",
       "\n",
       "    .dataframe thead th {\n",
       "        text-align: right;\n",
       "    }\n",
       "</style>\n",
       "<table border=\"1\" class=\"dataframe\">\n",
       "  <thead>\n",
       "    <tr style=\"text-align: right;\">\n",
       "      <th></th>\n",
       "      <th>subreddit</th>\n",
       "      <th>selftext</th>\n",
       "      <th>title</th>\n",
       "    </tr>\n",
       "  </thead>\n",
       "  <tbody>\n",
       "    <tr>\n",
       "      <th>0</th>\n",
       "      <td>TeamfightTactics</td>\n",
       "      <td>NaN</td>\n",
       "      <td>I've bot4ed once this set before, now this patch i got 5 in a row, im so lost lol</td>\n",
       "    </tr>\n",
       "    <tr>\n",
       "      <th>1</th>\n",
       "      <td>TeamfightTactics</td>\n",
       "      <td>I was thinking something like Shapeshifter Dragonmancer Bruiser Shyvana but i have no idea which augments there are that give HP other than Personal Trainer. Maybe also better to just slam 3 Warmogs on her than give her the Mancer Emblem.\\n\\nAnyways, any ideas?</td>\n",
       "      <td>What‘s the max HP possible on champions in the current set?</td>\n",
       "    </tr>\n",
       "    <tr>\n",
       "      <th>2</th>\n",
       "      <td>TeamfightTactics</td>\n",
       "      <td>NaN</td>\n",
       "      <td>3-4 people playing astrals, every game, and it always works out for them.</td>\n",
       "    </tr>\n",
       "    <tr>\n",
       "      <th>3</th>\n",
       "      <td>TeamfightTactics</td>\n",
       "      <td>NaN</td>\n",
       "      <td>Sickest comp I’ve ever built. It was a crown opener game</td>\n",
       "    </tr>\n",
       "    <tr>\n",
       "      <th>4</th>\n",
       "      <td>TeamfightTactics</td>\n",
       "      <td>NaN</td>\n",
       "      <td>Sickest team I’ve ever built. Crown opener game</td>\n",
       "    </tr>\n",
       "  </tbody>\n",
       "</table>\n",
       "</div>"
      ],
      "text/plain": [
       "          subreddit  \\\n",
       "0  TeamfightTactics   \n",
       "1  TeamfightTactics   \n",
       "2  TeamfightTactics   \n",
       "3  TeamfightTactics   \n",
       "4  TeamfightTactics   \n",
       "\n",
       "                                                                                                                                                                                                                                                                selftext  \\\n",
       "0  NaN                                                                                                                                                                                                                                                                     \n",
       "1  I was thinking something like Shapeshifter Dragonmancer Bruiser Shyvana but i have no idea which augments there are that give HP other than Personal Trainer. Maybe also better to just slam 3 Warmogs on her than give her the Mancer Emblem.\\n\\nAnyways, any ideas?   \n",
       "2  NaN                                                                                                                                                                                                                                                                     \n",
       "3  NaN                                                                                                                                                                                                                                                                     \n",
       "4  NaN                                                                                                                                                                                                                                                                     \n",
       "\n",
       "                                                                               title  \n",
       "0  I've bot4ed once this set before, now this patch i got 5 in a row, im so lost lol  \n",
       "1  What‘s the max HP possible on champions in the current set?                        \n",
       "2  3-4 people playing astrals, every game, and it always works out for them.          \n",
       "3  Sickest comp I’ve ever built. It was a crown opener game                           \n",
       "4  Sickest team I’ve ever built. Crown opener game                                    "
      ]
     },
     "execution_count": 4,
     "metadata": {},
     "output_type": "execute_result"
    }
   ],
   "source": [
    "tft_df = pd.read_csv('./created_data/tft')\n",
    "tft_df.head()"
   ]
  },
  {
   "cell_type": "code",
   "execution_count": 5,
   "id": "4a0c29d1",
   "metadata": {},
   "outputs": [
    {
     "data": {
      "text/plain": [
       "(2000, 3)"
      ]
     },
     "execution_count": 5,
     "metadata": {},
     "output_type": "execute_result"
    }
   ],
   "source": [
    "tft_df.shape"
   ]
  },
  {
   "cell_type": "markdown",
   "id": "3d736140",
   "metadata": {},
   "source": [
    "## 2. Exploratory Data Analysis"
   ]
  },
  {
   "cell_type": "markdown",
   "id": "b0875ca0",
   "metadata": {},
   "source": [
    "### 2.1 Data Cleaning"
   ]
  },
  {
   "cell_type": "code",
   "execution_count": 6,
   "id": "25d1df87",
   "metadata": {},
   "outputs": [],
   "source": [
    "#1. Drop duplicated rows\n",
    "\n",
    "autochess_df.drop_duplicates(keep='first', inplace=True)\n",
    "tft_df.drop_duplicates(keep='first', inplace=True)"
   ]
  },
  {
   "cell_type": "code",
   "execution_count": 7,
   "id": "2582674d",
   "metadata": {},
   "outputs": [
    {
     "name": "stdout",
     "output_type": "stream",
     "text": [
      "autochess_df: (1963, 3)\n",
      "tft_df: (1969, 3)\n"
     ]
    }
   ],
   "source": [
    "# Check the number of posts after dropping duplicated rows\n",
    "\n",
    "print(\"autochess_df:\", autochess_df.shape)\n",
    "print(\"tft_df:\", tft_df.shape)"
   ]
  },
  {
   "cell_type": "code",
   "execution_count": 8,
   "id": "c01d9d7e",
   "metadata": {},
   "outputs": [
    {
     "data": {
      "text/html": [
       "<div>\n",
       "<style scoped>\n",
       "    .dataframe tbody tr th:only-of-type {\n",
       "        vertical-align: middle;\n",
       "    }\n",
       "\n",
       "    .dataframe tbody tr th {\n",
       "        vertical-align: top;\n",
       "    }\n",
       "\n",
       "    .dataframe thead th {\n",
       "        text-align: right;\n",
       "    }\n",
       "</style>\n",
       "<table border=\"1\" class=\"dataframe\">\n",
       "  <thead>\n",
       "    <tr style=\"text-align: right;\">\n",
       "      <th></th>\n",
       "      <th>subreddit</th>\n",
       "      <th>selftext</th>\n",
       "      <th>title</th>\n",
       "    </tr>\n",
       "  </thead>\n",
       "  <tbody>\n",
       "    <tr>\n",
       "      <th>0</th>\n",
       "      <td>AutoChess</td>\n",
       "      <td>Few things I just noticed with quick mode after this patch:\\n- No ability to see what legendary chars are available\\n- Looks like Auto Magi and Otter are just straight gone from lineup (probably many others\\n- No way to do 6-Mage or Beast builds, monkey king gone as well.\\n\\nWhy the heck was none of this mentioned in the patch notes???</td>\n",
       "      <td>Quick mode super broken now</td>\n",
       "    </tr>\n",
       "    <tr>\n",
       "      <th>1</th>\n",
       "      <td>AutoChess</td>\n",
       "      <td>I've deleted and re-downloaded. Trying again this last time. Anyone else dealt with this?</td>\n",
       "      <td>Playstation 4. Cannot play, loading screen keeps ending in blue screen.</td>\n",
       "    </tr>\n",
       "    <tr>\n",
       "      <th>2</th>\n",
       "      <td>AutoChess</td>\n",
       "      <td>NaN</td>\n",
       "      <td>6 warlock/god Argali back on the menu 🔥 (King-1 Ranked)</td>\n",
       "    </tr>\n",
       "    <tr>\n",
       "      <th>3</th>\n",
       "      <td>AutoChess</td>\n",
       "      <td>Hello everyone. I am a Gmail account I tried to bind my account to dragonest account but I have created another account on dragonest instead of binding on the same email. Is there any way I can delete that account and bind my original account of Gmail to dragonest. Any help would be appreciated thanks in advance</td>\n",
       "      <td>query about linking my account to dragonest account</td>\n",
       "    </tr>\n",
       "    <tr>\n",
       "      <th>4</th>\n",
       "      <td>AutoChess</td>\n",
       "      <td>I have just recently got into the game and wanted to test a few things and want it to go faster than other modes so I play Quick mode a lot. What I have noticed is that it seems like all I go up against are bots? Like they have decently unique names, state they are from different countries, mobile and PC etc. In quick mode, you don't gain interest at all so it is pointless to keep building up your coins, you need to just spend as soon as you can to get 3 stars fast. But I keep realizing that I am winning almost every game and I go to look at opponents and they have like 60 gold when they lose and don't distribute their items at all. I am account level 17 so I shouldn't be playing bots right?</td>\n",
       "      <td>Quick Mode, is it just bots?</td>\n",
       "    </tr>\n",
       "  </tbody>\n",
       "</table>\n",
       "</div>"
      ],
      "text/plain": [
       "   subreddit  \\\n",
       "0  AutoChess   \n",
       "1  AutoChess   \n",
       "2  AutoChess   \n",
       "3  AutoChess   \n",
       "4  AutoChess   \n",
       "\n",
       "                                                                                                                                                                                                                                                                                                                                                                                                                                                                                                                                                                                                                                                                                                                       selftext  \\\n",
       "0  Few things I just noticed with quick mode after this patch:\\n- No ability to see what legendary chars are available\\n- Looks like Auto Magi and Otter are just straight gone from lineup (probably many others\\n- No way to do 6-Mage or Beast builds, monkey king gone as well.\\n\\nWhy the heck was none of this mentioned in the patch notes???                                                                                                                                                                                                                                                                                                                                                                              \n",
       "1  I've deleted and re-downloaded. Trying again this last time. Anyone else dealt with this?                                                                                                                                                                                                                                                                                                                                                                                                                                                                                                                                                                                                                                      \n",
       "2  NaN                                                                                                                                                                                                                                                                                                                                                                                                                                                                                                                                                                                                                                                                                                                            \n",
       "3  Hello everyone. I am a Gmail account I tried to bind my account to dragonest account but I have created another account on dragonest instead of binding on the same email. Is there any way I can delete that account and bind my original account of Gmail to dragonest. Any help would be appreciated thanks in advance                                                                                                                                                                                                                                                                                                                                                                                                      \n",
       "4  I have just recently got into the game and wanted to test a few things and want it to go faster than other modes so I play Quick mode a lot. What I have noticed is that it seems like all I go up against are bots? Like they have decently unique names, state they are from different countries, mobile and PC etc. In quick mode, you don't gain interest at all so it is pointless to keep building up your coins, you need to just spend as soon as you can to get 3 stars fast. But I keep realizing that I am winning almost every game and I go to look at opponents and they have like 60 gold when they lose and don't distribute their items at all. I am account level 17 so I shouldn't be playing bots right?   \n",
       "\n",
       "                                                                     title  \n",
       "0  Quick mode super broken now                                              \n",
       "1  Playstation 4. Cannot play, loading screen keeps ending in blue screen.  \n",
       "2  6 warlock/god Argali back on the menu 🔥 (King-1 Ranked)                  \n",
       "3  query about linking my account to dragonest account                      \n",
       "4  Quick Mode, is it just bots?                                             "
      ]
     },
     "execution_count": 8,
     "metadata": {},
     "output_type": "execute_result"
    }
   ],
   "source": [
    "#2. Combining the two dataframes into 1 dataframe\n",
    "\n",
    "df = pd.concat([autochess_df, tft_df], axis=0)\n",
    "df = df.reset_index(drop=True)\n",
    "df.head()"
   ]
  },
  {
   "cell_type": "code",
   "execution_count": 9,
   "id": "3646a27b",
   "metadata": {},
   "outputs": [
    {
     "data": {
      "text/html": [
       "<div>\n",
       "<style scoped>\n",
       "    .dataframe tbody tr th:only-of-type {\n",
       "        vertical-align: middle;\n",
       "    }\n",
       "\n",
       "    .dataframe tbody tr th {\n",
       "        vertical-align: top;\n",
       "    }\n",
       "\n",
       "    .dataframe thead th {\n",
       "        text-align: right;\n",
       "    }\n",
       "</style>\n",
       "<table border=\"1\" class=\"dataframe\">\n",
       "  <thead>\n",
       "    <tr style=\"text-align: right;\">\n",
       "      <th></th>\n",
       "      <th>subreddit</th>\n",
       "      <th>selftext</th>\n",
       "      <th>title</th>\n",
       "    </tr>\n",
       "  </thead>\n",
       "  <tbody>\n",
       "    <tr>\n",
       "      <th>148</th>\n",
       "      <td>AutoChess</td>\n",
       "      <td>[removed]</td>\n",
       "      <td>Why Did my 6-Ergesis Synergy Start Failing?</td>\n",
       "    </tr>\n",
       "    <tr>\n",
       "      <th>172</th>\n",
       "      <td>AutoChess</td>\n",
       "      <td>[removed]</td>\n",
       "      <td>4 Witcher and 6 archer transitions? Meta/Gameplay help</td>\n",
       "    </tr>\n",
       "    <tr>\n",
       "      <th>178</th>\n",
       "      <td>AutoChess</td>\n",
       "      <td>[removed]</td>\n",
       "      <td>Why can't I log in to the game right now?</td>\n",
       "    </tr>\n",
       "    <tr>\n",
       "      <th>265</th>\n",
       "      <td>AutoChess</td>\n",
       "      <td>[removed]</td>\n",
       "      <td>Leave it to the Chinese to know what \"fair is</td>\n",
       "    </tr>\n",
       "    <tr>\n",
       "      <th>288</th>\n",
       "      <td>AutoChess</td>\n",
       "      <td>[removed]</td>\n",
       "      <td>Gem artisan double 3 star glitch</td>\n",
       "    </tr>\n",
       "    <tr>\n",
       "      <th>...</th>\n",
       "      <td>...</td>\n",
       "      <td>...</td>\n",
       "      <td>...</td>\n",
       "    </tr>\n",
       "    <tr>\n",
       "      <th>3426</th>\n",
       "      <td>TeamfightTactics</td>\n",
       "      <td>[removed]</td>\n",
       "      <td>Idas is the worst dragon in the game and Aurelion Sol is unfair, change my mind!</td>\n",
       "    </tr>\n",
       "    <tr>\n",
       "      <th>3560</th>\n",
       "      <td>TeamfightTactics</td>\n",
       "      <td>[removed]</td>\n",
       "      <td>TFT UI</td>\n",
       "    </tr>\n",
       "    <tr>\n",
       "      <th>3676</th>\n",
       "      <td>TeamfightTactics</td>\n",
       "      <td>[removed]</td>\n",
       "      <td>TEACH ME OLAF PLZ</td>\n",
       "    </tr>\n",
       "    <tr>\n",
       "      <th>3705</th>\n",
       "      <td>TeamfightTactics</td>\n",
       "      <td>[removed]</td>\n",
       "      <td>SO HOW DID TFT BUY MY 9th VARUS FOR ME WITHOUT MY CONSENT!</td>\n",
       "    </tr>\n",
       "    <tr>\n",
       "      <th>3764</th>\n",
       "      <td>TeamfightTactics</td>\n",
       "      <td>[removed]</td>\n",
       "      <td>THIS CAN'T BE ACTUAL RNG RIGHT??? RIGHT???</td>\n",
       "    </tr>\n",
       "  </tbody>\n",
       "</table>\n",
       "<p>115 rows × 3 columns</p>\n",
       "</div>"
      ],
      "text/plain": [
       "             subreddit   selftext  \\\n",
       "148   AutoChess         [removed]   \n",
       "172   AutoChess         [removed]   \n",
       "178   AutoChess         [removed]   \n",
       "265   AutoChess         [removed]   \n",
       "288   AutoChess         [removed]   \n",
       "...         ...               ...   \n",
       "3426  TeamfightTactics  [removed]   \n",
       "3560  TeamfightTactics  [removed]   \n",
       "3676  TeamfightTactics  [removed]   \n",
       "3705  TeamfightTactics  [removed]   \n",
       "3764  TeamfightTactics  [removed]   \n",
       "\n",
       "                                                                                 title  \n",
       "148   Why Did my 6-Ergesis Synergy Start Failing?                                       \n",
       "172   4 Witcher and 6 archer transitions? Meta/Gameplay help                            \n",
       "178   Why can't I log in to the game right now?                                         \n",
       "265   Leave it to the Chinese to know what \"fair is                                     \n",
       "288   Gem artisan double 3 star glitch                                                  \n",
       "...                                ...                                                  \n",
       "3426  Idas is the worst dragon in the game and Aurelion Sol is unfair, change my mind!  \n",
       "3560  TFT UI                                                                            \n",
       "3676  TEACH ME OLAF PLZ                                                                 \n",
       "3705  SO HOW DID TFT BUY MY 9th VARUS FOR ME WITHOUT MY CONSENT!                        \n",
       "3764  THIS CAN'T BE ACTUAL RNG RIGHT??? RIGHT???                                        \n",
       "\n",
       "[115 rows x 3 columns]"
      ]
     },
     "execution_count": 9,
     "metadata": {},
     "output_type": "execute_result"
    }
   ],
   "source": [
    "#3. Observed that there are some selftext rows having [removed] and why? - total of 115 rows\n",
    "\n",
    "df[df['selftext']=='[removed]']"
   ]
  },
  {
   "cell_type": "markdown",
   "id": "41e899d6",
   "metadata": {},
   "source": [
    "There are 115 posts that were removed by moderators which results to the selftext to be [removed]."
   ]
  },
  {
   "cell_type": "code",
   "execution_count": 10,
   "id": "0cb2f28c",
   "metadata": {},
   "outputs": [
    {
     "data": {
      "text/html": [
       "<div>\n",
       "<style scoped>\n",
       "    .dataframe tbody tr th:only-of-type {\n",
       "        vertical-align: middle;\n",
       "    }\n",
       "\n",
       "    .dataframe tbody tr th {\n",
       "        vertical-align: top;\n",
       "    }\n",
       "\n",
       "    .dataframe thead th {\n",
       "        text-align: right;\n",
       "    }\n",
       "</style>\n",
       "<table border=\"1\" class=\"dataframe\">\n",
       "  <thead>\n",
       "    <tr style=\"text-align: right;\">\n",
       "      <th></th>\n",
       "      <th>subreddit</th>\n",
       "      <th>selftext</th>\n",
       "      <th>title</th>\n",
       "    </tr>\n",
       "  </thead>\n",
       "  <tbody>\n",
       "  </tbody>\n",
       "</table>\n",
       "</div>"
      ],
      "text/plain": [
       "Empty DataFrame\n",
       "Columns: [subreddit, selftext, title]\n",
       "Index: []"
      ]
     },
     "execution_count": 10,
     "metadata": {},
     "output_type": "execute_result"
    }
   ],
   "source": [
    "# Replace these 'removed' rows with np.nan\n",
    "\n",
    "df.replace('[removed]', np.nan, inplace=True)\n",
    "df[df['selftext']=='[removed]']"
   ]
  },
  {
   "cell_type": "code",
   "execution_count": 11,
   "id": "6fcd8187",
   "metadata": {},
   "outputs": [
    {
     "data": {
      "text/plain": [
       "subreddit    0   \n",
       "selftext     2400\n",
       "title        0   \n",
       "dtype: int64"
      ]
     },
     "execution_count": 11,
     "metadata": {},
     "output_type": "execute_result"
    }
   ],
   "source": [
    "# Check for null values and impute empty string\n",
    "\n",
    "df.isnull().sum()"
   ]
  },
  {
   "cell_type": "code",
   "execution_count": 12,
   "id": "7cae1a75",
   "metadata": {},
   "outputs": [
    {
     "data": {
      "text/plain": [
       "subreddit    0\n",
       "selftext     0\n",
       "title        0\n",
       "dtype: int64"
      ]
     },
     "execution_count": 12,
     "metadata": {},
     "output_type": "execute_result"
    }
   ],
   "source": [
    "df['selftext'] = df['selftext'].fillna('')\n",
    "df.isnull().sum()"
   ]
  },
  {
   "cell_type": "code",
   "execution_count": 13,
   "id": "8be0c1f1",
   "metadata": {},
   "outputs": [
    {
     "data": {
      "text/html": [
       "<div>\n",
       "<style scoped>\n",
       "    .dataframe tbody tr th:only-of-type {\n",
       "        vertical-align: middle;\n",
       "    }\n",
       "\n",
       "    .dataframe tbody tr th {\n",
       "        vertical-align: top;\n",
       "    }\n",
       "\n",
       "    .dataframe thead th {\n",
       "        text-align: right;\n",
       "    }\n",
       "</style>\n",
       "<table border=\"1\" class=\"dataframe\">\n",
       "  <thead>\n",
       "    <tr style=\"text-align: right;\">\n",
       "      <th></th>\n",
       "      <th>subreddit</th>\n",
       "      <th>selftext</th>\n",
       "      <th>title</th>\n",
       "      <th>text</th>\n",
       "    </tr>\n",
       "  </thead>\n",
       "  <tbody>\n",
       "    <tr>\n",
       "      <th>0</th>\n",
       "      <td>AutoChess</td>\n",
       "      <td>Few things I just noticed with quick mode after this patch:\\n- No ability to see what legendary chars are available\\n- Looks like Auto Magi and Otter are just straight gone from lineup (probably many others\\n- No way to do 6-Mage or Beast builds, monkey king gone as well.\\n\\nWhy the heck was none of this mentioned in the patch notes???</td>\n",
       "      <td>Quick mode super broken now</td>\n",
       "      <td>Quick mode super broken now Few things I just noticed with quick mode after this patch:\\n- No ability to see what legendary chars are available\\n- Looks like Auto Magi and Otter are just straight gone from lineup (probably many others\\n- No way to do 6-Mage or Beast builds, monkey king gone as well.\\n\\nWhy the heck was none of this mentioned in the patch notes???</td>\n",
       "    </tr>\n",
       "    <tr>\n",
       "      <th>1</th>\n",
       "      <td>AutoChess</td>\n",
       "      <td>I've deleted and re-downloaded. Trying again this last time. Anyone else dealt with this?</td>\n",
       "      <td>Playstation 4. Cannot play, loading screen keeps ending in blue screen.</td>\n",
       "      <td>Playstation 4. Cannot play, loading screen keeps ending in blue screen. I've deleted and re-downloaded. Trying again this last time. Anyone else dealt with this?</td>\n",
       "    </tr>\n",
       "    <tr>\n",
       "      <th>2</th>\n",
       "      <td>AutoChess</td>\n",
       "      <td></td>\n",
       "      <td>6 warlock/god Argali back on the menu 🔥 (King-1 Ranked)</td>\n",
       "      <td>6 warlock/god Argali back on the menu 🔥 (King-1 Ranked)</td>\n",
       "    </tr>\n",
       "    <tr>\n",
       "      <th>3</th>\n",
       "      <td>AutoChess</td>\n",
       "      <td>Hello everyone. I am a Gmail account I tried to bind my account to dragonest account but I have created another account on dragonest instead of binding on the same email. Is there any way I can delete that account and bind my original account of Gmail to dragonest. Any help would be appreciated thanks in advance</td>\n",
       "      <td>query about linking my account to dragonest account</td>\n",
       "      <td>query about linking my account to dragonest account Hello everyone. I am a Gmail account I tried to bind my account to dragonest account but I have created another account on dragonest instead of binding on the same email. Is there any way I can delete that account and bind my original account of Gmail to dragonest. Any help would be appreciated thanks in advance</td>\n",
       "    </tr>\n",
       "    <tr>\n",
       "      <th>4</th>\n",
       "      <td>AutoChess</td>\n",
       "      <td>I have just recently got into the game and wanted to test a few things and want it to go faster than other modes so I play Quick mode a lot. What I have noticed is that it seems like all I go up against are bots? Like they have decently unique names, state they are from different countries, mobile and PC etc. In quick mode, you don't gain interest at all so it is pointless to keep building up your coins, you need to just spend as soon as you can to get 3 stars fast. But I keep realizing that I am winning almost every game and I go to look at opponents and they have like 60 gold when they lose and don't distribute their items at all. I am account level 17 so I shouldn't be playing bots right?</td>\n",
       "      <td>Quick Mode, is it just bots?</td>\n",
       "      <td>Quick Mode, is it just bots? I have just recently got into the game and wanted to test a few things and want it to go faster than other modes so I play Quick mode a lot. What I have noticed is that it seems like all I go up against are bots? Like they have decently unique names, state they are from different countries, mobile and PC etc. In quick mode, you don't gain interest at all so it is pointless to keep building up your coins, you need to just spend as soon as you can to get 3 stars fast. But I keep realizing that I am winning almost every game and I go to look at opponents and they have like 60 gold when they lose and don't distribute their items at all. I am account level 17 so I shouldn't be playing bots right?</td>\n",
       "    </tr>\n",
       "  </tbody>\n",
       "</table>\n",
       "</div>"
      ],
      "text/plain": [
       "   subreddit  \\\n",
       "0  AutoChess   \n",
       "1  AutoChess   \n",
       "2  AutoChess   \n",
       "3  AutoChess   \n",
       "4  AutoChess   \n",
       "\n",
       "                                                                                                                                                                                                                                                                                                                                                                                                                                                                                                                                                                                                                                                                                                                       selftext  \\\n",
       "0  Few things I just noticed with quick mode after this patch:\\n- No ability to see what legendary chars are available\\n- Looks like Auto Magi and Otter are just straight gone from lineup (probably many others\\n- No way to do 6-Mage or Beast builds, monkey king gone as well.\\n\\nWhy the heck was none of this mentioned in the patch notes???                                                                                                                                                                                                                                                                                                                                                                              \n",
       "1  I've deleted and re-downloaded. Trying again this last time. Anyone else dealt with this?                                                                                                                                                                                                                                                                                                                                                                                                                                                                                                                                                                                                                                      \n",
       "2                                                                                                                                                                                                                                                                                                                                                                                                                                                                                                                                                                                                                                                                                                                                 \n",
       "3  Hello everyone. I am a Gmail account I tried to bind my account to dragonest account but I have created another account on dragonest instead of binding on the same email. Is there any way I can delete that account and bind my original account of Gmail to dragonest. Any help would be appreciated thanks in advance                                                                                                                                                                                                                                                                                                                                                                                                      \n",
       "4  I have just recently got into the game and wanted to test a few things and want it to go faster than other modes so I play Quick mode a lot. What I have noticed is that it seems like all I go up against are bots? Like they have decently unique names, state they are from different countries, mobile and PC etc. In quick mode, you don't gain interest at all so it is pointless to keep building up your coins, you need to just spend as soon as you can to get 3 stars fast. But I keep realizing that I am winning almost every game and I go to look at opponents and they have like 60 gold when they lose and don't distribute their items at all. I am account level 17 so I shouldn't be playing bots right?   \n",
       "\n",
       "                                                                     title  \\\n",
       "0  Quick mode super broken now                                               \n",
       "1  Playstation 4. Cannot play, loading screen keeps ending in blue screen.   \n",
       "2  6 warlock/god Argali back on the menu 🔥 (King-1 Ranked)                   \n",
       "3  query about linking my account to dragonest account                       \n",
       "4  Quick Mode, is it just bots?                                              \n",
       "\n",
       "                                                                                                                                                                                                                                                                                                                                                                                                                                                                                                                                                                                                                                                                                                                                                        text  \n",
       "0  Quick mode super broken now Few things I just noticed with quick mode after this patch:\\n- No ability to see what legendary chars are available\\n- Looks like Auto Magi and Otter are just straight gone from lineup (probably many others\\n- No way to do 6-Mage or Beast builds, monkey king gone as well.\\n\\nWhy the heck was none of this mentioned in the patch notes???                                                                                                                                                                                                                                                                                                                                                                              \n",
       "1  Playstation 4. Cannot play, loading screen keeps ending in blue screen. I've deleted and re-downloaded. Trying again this last time. Anyone else dealt with this?                                                                                                                                                                                                                                                                                                                                                                                                                                                                                                                                                                                          \n",
       "2  6 warlock/god Argali back on the menu 🔥 (King-1 Ranked)                                                                                                                                                                                                                                                                                                                                                                                                                                                                                                                                                                                                                                                                                                    \n",
       "3  query about linking my account to dragonest account Hello everyone. I am a Gmail account I tried to bind my account to dragonest account but I have created another account on dragonest instead of binding on the same email. Is there any way I can delete that account and bind my original account of Gmail to dragonest. Any help would be appreciated thanks in advance                                                                                                                                                                                                                                                                                                                                                                              \n",
       "4  Quick Mode, is it just bots? I have just recently got into the game and wanted to test a few things and want it to go faster than other modes so I play Quick mode a lot. What I have noticed is that it seems like all I go up against are bots? Like they have decently unique names, state they are from different countries, mobile and PC etc. In quick mode, you don't gain interest at all so it is pointless to keep building up your coins, you need to just spend as soon as you can to get 3 stars fast. But I keep realizing that I am winning almost every game and I go to look at opponents and they have like 60 gold when they lose and don't distribute their items at all. I am account level 17 so I shouldn't be playing bots right?  "
      ]
     },
     "execution_count": 13,
     "metadata": {},
     "output_type": "execute_result"
    }
   ],
   "source": [
    "# Create 'text' column = Combination of selftext and title\n",
    "\n",
    "df['text'] = df['title'] + ' ' + df['selftext']\n",
    "df.head()"
   ]
  },
  {
   "cell_type": "code",
   "execution_count": 14,
   "id": "09ff5646",
   "metadata": {},
   "outputs": [
    {
     "data": {
      "text/html": [
       "<div>\n",
       "<style scoped>\n",
       "    .dataframe tbody tr th:only-of-type {\n",
       "        vertical-align: middle;\n",
       "    }\n",
       "\n",
       "    .dataframe tbody tr th {\n",
       "        vertical-align: top;\n",
       "    }\n",
       "\n",
       "    .dataframe thead th {\n",
       "        text-align: right;\n",
       "    }\n",
       "</style>\n",
       "<table border=\"1\" class=\"dataframe\">\n",
       "  <thead>\n",
       "    <tr style=\"text-align: right;\">\n",
       "      <th></th>\n",
       "      <th>selftext</th>\n",
       "      <th>title</th>\n",
       "      <th>text</th>\n",
       "      <th>label</th>\n",
       "    </tr>\n",
       "  </thead>\n",
       "  <tbody>\n",
       "    <tr>\n",
       "      <th>0</th>\n",
       "      <td>Few things I just noticed with quick mode after this patch:\\n- No ability to see what legendary chars are available\\n- Looks like Auto Magi and Otter are just straight gone from lineup (probably many others\\n- No way to do 6-Mage or Beast builds, monkey king gone as well.\\n\\nWhy the heck was none of this mentioned in the patch notes???</td>\n",
       "      <td>Quick mode super broken now</td>\n",
       "      <td>Quick mode super broken now Few things I just noticed with quick mode after this patch:\\n- No ability to see what legendary chars are available\\n- Looks like Auto Magi and Otter are just straight gone from lineup (probably many others\\n- No way to do 6-Mage or Beast builds, monkey king gone as well.\\n\\nWhy the heck was none of this mentioned in the patch notes???</td>\n",
       "      <td>0</td>\n",
       "    </tr>\n",
       "    <tr>\n",
       "      <th>1</th>\n",
       "      <td>I've deleted and re-downloaded. Trying again this last time. Anyone else dealt with this?</td>\n",
       "      <td>Playstation 4. Cannot play, loading screen keeps ending in blue screen.</td>\n",
       "      <td>Playstation 4. Cannot play, loading screen keeps ending in blue screen. I've deleted and re-downloaded. Trying again this last time. Anyone else dealt with this?</td>\n",
       "      <td>0</td>\n",
       "    </tr>\n",
       "    <tr>\n",
       "      <th>2</th>\n",
       "      <td></td>\n",
       "      <td>6 warlock/god Argali back on the menu 🔥 (King-1 Ranked)</td>\n",
       "      <td>6 warlock/god Argali back on the menu 🔥 (King-1 Ranked)</td>\n",
       "      <td>0</td>\n",
       "    </tr>\n",
       "    <tr>\n",
       "      <th>3</th>\n",
       "      <td>Hello everyone. I am a Gmail account I tried to bind my account to dragonest account but I have created another account on dragonest instead of binding on the same email. Is there any way I can delete that account and bind my original account of Gmail to dragonest. Any help would be appreciated thanks in advance</td>\n",
       "      <td>query about linking my account to dragonest account</td>\n",
       "      <td>query about linking my account to dragonest account Hello everyone. I am a Gmail account I tried to bind my account to dragonest account but I have created another account on dragonest instead of binding on the same email. Is there any way I can delete that account and bind my original account of Gmail to dragonest. Any help would be appreciated thanks in advance</td>\n",
       "      <td>0</td>\n",
       "    </tr>\n",
       "    <tr>\n",
       "      <th>4</th>\n",
       "      <td>I have just recently got into the game and wanted to test a few things and want it to go faster than other modes so I play Quick mode a lot. What I have noticed is that it seems like all I go up against are bots? Like they have decently unique names, state they are from different countries, mobile and PC etc. In quick mode, you don't gain interest at all so it is pointless to keep building up your coins, you need to just spend as soon as you can to get 3 stars fast. But I keep realizing that I am winning almost every game and I go to look at opponents and they have like 60 gold when they lose and don't distribute their items at all. I am account level 17 so I shouldn't be playing bots right?</td>\n",
       "      <td>Quick Mode, is it just bots?</td>\n",
       "      <td>Quick Mode, is it just bots? I have just recently got into the game and wanted to test a few things and want it to go faster than other modes so I play Quick mode a lot. What I have noticed is that it seems like all I go up against are bots? Like they have decently unique names, state they are from different countries, mobile and PC etc. In quick mode, you don't gain interest at all so it is pointless to keep building up your coins, you need to just spend as soon as you can to get 3 stars fast. But I keep realizing that I am winning almost every game and I go to look at opponents and they have like 60 gold when they lose and don't distribute their items at all. I am account level 17 so I shouldn't be playing bots right?</td>\n",
       "      <td>0</td>\n",
       "    </tr>\n",
       "  </tbody>\n",
       "</table>\n",
       "</div>"
      ],
      "text/plain": [
       "                                                                                                                                                                                                                                                                                                                                                                                                                                                                                                                                                                                                                                                                                                                       selftext  \\\n",
       "0  Few things I just noticed with quick mode after this patch:\\n- No ability to see what legendary chars are available\\n- Looks like Auto Magi and Otter are just straight gone from lineup (probably many others\\n- No way to do 6-Mage or Beast builds, monkey king gone as well.\\n\\nWhy the heck was none of this mentioned in the patch notes???                                                                                                                                                                                                                                                                                                                                                                              \n",
       "1  I've deleted and re-downloaded. Trying again this last time. Anyone else dealt with this?                                                                                                                                                                                                                                                                                                                                                                                                                                                                                                                                                                                                                                      \n",
       "2                                                                                                                                                                                                                                                                                                                                                                                                                                                                                                                                                                                                                                                                                                                                 \n",
       "3  Hello everyone. I am a Gmail account I tried to bind my account to dragonest account but I have created another account on dragonest instead of binding on the same email. Is there any way I can delete that account and bind my original account of Gmail to dragonest. Any help would be appreciated thanks in advance                                                                                                                                                                                                                                                                                                                                                                                                      \n",
       "4  I have just recently got into the game and wanted to test a few things and want it to go faster than other modes so I play Quick mode a lot. What I have noticed is that it seems like all I go up against are bots? Like they have decently unique names, state they are from different countries, mobile and PC etc. In quick mode, you don't gain interest at all so it is pointless to keep building up your coins, you need to just spend as soon as you can to get 3 stars fast. But I keep realizing that I am winning almost every game and I go to look at opponents and they have like 60 gold when they lose and don't distribute their items at all. I am account level 17 so I shouldn't be playing bots right?   \n",
       "\n",
       "                                                                     title  \\\n",
       "0  Quick mode super broken now                                               \n",
       "1  Playstation 4. Cannot play, loading screen keeps ending in blue screen.   \n",
       "2  6 warlock/god Argali back on the menu 🔥 (King-1 Ranked)                   \n",
       "3  query about linking my account to dragonest account                       \n",
       "4  Quick Mode, is it just bots?                                              \n",
       "\n",
       "                                                                                                                                                                                                                                                                                                                                                                                                                                                                                                                                                                                                                                                                                                                                                        text  \\\n",
       "0  Quick mode super broken now Few things I just noticed with quick mode after this patch:\\n- No ability to see what legendary chars are available\\n- Looks like Auto Magi and Otter are just straight gone from lineup (probably many others\\n- No way to do 6-Mage or Beast builds, monkey king gone as well.\\n\\nWhy the heck was none of this mentioned in the patch notes???                                                                                                                                                                                                                                                                                                                                                                               \n",
       "1  Playstation 4. Cannot play, loading screen keeps ending in blue screen. I've deleted and re-downloaded. Trying again this last time. Anyone else dealt with this?                                                                                                                                                                                                                                                                                                                                                                                                                                                                                                                                                                                           \n",
       "2  6 warlock/god Argali back on the menu 🔥 (King-1 Ranked)                                                                                                                                                                                                                                                                                                                                                                                                                                                                                                                                                                                                                                                                                                     \n",
       "3  query about linking my account to dragonest account Hello everyone. I am a Gmail account I tried to bind my account to dragonest account but I have created another account on dragonest instead of binding on the same email. Is there any way I can delete that account and bind my original account of Gmail to dragonest. Any help would be appreciated thanks in advance                                                                                                                                                                                                                                                                                                                                                                               \n",
       "4  Quick Mode, is it just bots? I have just recently got into the game and wanted to test a few things and want it to go faster than other modes so I play Quick mode a lot. What I have noticed is that it seems like all I go up against are bots? Like they have decently unique names, state they are from different countries, mobile and PC etc. In quick mode, you don't gain interest at all so it is pointless to keep building up your coins, you need to just spend as soon as you can to get 3 stars fast. But I keep realizing that I am winning almost every game and I go to look at opponents and they have like 60 gold when they lose and don't distribute their items at all. I am account level 17 so I shouldn't be playing bots right?   \n",
       "\n",
       "   label  \n",
       "0  0      \n",
       "1  0      \n",
       "2  0      \n",
       "3  0      \n",
       "4  0      "
      ]
     },
     "execution_count": 14,
     "metadata": {},
     "output_type": "execute_result"
    }
   ],
   "source": [
    "# Create label column by changing subreddit (target) column to 0 (autochess) or 1 (tft)\n",
    "\n",
    "df['label'] = df['subreddit'].map({'AutoChess':0, 'TeamfightTactics':1})\n",
    "df.drop(columns=['subreddit'], axis=1, inplace=True)\n",
    "df.head()"
   ]
  },
  {
   "cell_type": "markdown",
   "id": "f04537e0",
   "metadata": {},
   "source": [
    "### 2.2 Detailed text preprocessing \n",
    "\n",
    "Text preprocessing is a necessary approach for NLP for cleaning and preparing text data. This is an important step before performing machine learning.\n",
    "\n",
    "Steps taken for this text preprocessing:\n",
    "1. Convert words to lowercase\n",
    "2. Remove newlines and tabs\n",
    "3. Strip HTML tags (e.g img, body, html)\n",
    "4. Remove links (start with https and ends with .com)\n",
    "5. Dealing with expand contractions (can't -> cannot, doesn't -> does not)\n",
    "6. Remove stopwords\n",
    "7. Remove special characters (punctuations, emojis)\n",
    "8. Remove whitespaces\n",
    "9. Lemmatization\n",
    "\n",
    "Reference: [Cleaning & Preprocessing Text Data by Building NLP Pipeline](https://towardsdatascience.com/cleaning-preprocessing-text-data-by-building-nlp-pipeline-853148add68a)"
   ]
  },
  {
   "cell_type": "code",
   "execution_count": 15,
   "id": "55f02e17",
   "metadata": {},
   "outputs": [],
   "source": [
    "from bs4 import BeautifulSoup \n",
    "import re\n",
    "import unidecode \n",
    "import nltk\n",
    "from nltk.corpus import stopwords\n",
    "from nltk.tokenize import word_tokenize\n",
    "from nltk.stem import PorterStemmer\n",
    "from nltk.stem import WordNetLemmatizer"
   ]
  },
  {
   "cell_type": "code",
   "execution_count": 16,
   "id": "915ea863",
   "metadata": {},
   "outputs": [],
   "source": [
    "contraction_map = {\n",
    "\"ain't\": \"is not\",\n",
    "\"aren't\": \"are not\",\n",
    "\"can't\": \"cannot\",\n",
    "\"can't've\": \"cannot have\",\n",
    "\"'cause\": \"because\",\n",
    "\"could've\": \"could have\",\n",
    "\"couldn't\": \"could not\",\n",
    "\"couldn't've\": \"could not have\",\n",
    "\"didn't\": \"did not\",\n",
    "\"doesn't\": \"does not\",\n",
    "\"don't\": \"do not\",\n",
    "\"hadn't\": \"had not\",\n",
    "\"hadn't've\": \"had not have\",\n",
    "\"hasn't\": \"has not\",\n",
    "\"haven't\": \"have not\",\n",
    "\"he'd\": \"he would\",\n",
    "\"he'd've\": \"he would have\",\n",
    "\"he'll\": \"he will\",\n",
    "\"he'll've\": \"he he will have\",\n",
    "\"he's\": \"he is\",\n",
    "\"how'd\": \"how did\",\n",
    "\"how'd'y\": \"how do you\",\n",
    "\"how'll\": \"how will\",\n",
    "\"how's\": \"how is\",\n",
    "\"i'd\": \"i would\",\n",
    "\"i'd've\": \"i would have\",\n",
    "\"i'll\": \"i will\",\n",
    "\"i'll've\": \"i will have\",\n",
    "\"i'm\": \"i am\",\n",
    "\"i've\": \"i have\",\n",
    "\"isn't\": \"is not\",\n",
    "\"it'd\": \"it would\",\n",
    "\"it'd've\": \"it would have\",\n",
    "\"it'll\": \"it will\",\n",
    "\"it'll've\": \"it will have\",\n",
    "\"it's\": \"it is\",\n",
    "\"let's\": \"let us\",\n",
    "\"ma'am\": \"madam\",\n",
    "\"mayn't\": \"may not\",\n",
    "\"might've\": \"might have\",\n",
    "\"mightn't\": \"might not\",\n",
    "\"mightn't've\": \"might not have\",\n",
    "\"must've\": \"must have\",\n",
    "\"mustn't\": \"must not\",\n",
    "\"mustn't've\": \"must not have\",\n",
    "\"needn't\": \"need not\",\n",
    "\"needn't've\": \"need not have\",\n",
    "\"o'clock\": \"of the clock\",\n",
    "\"oughtn't\": \"ought not\",\n",
    "\"oughtn't've\": \"ought not have\",\n",
    "\"shan't\": \"shall not\",\n",
    "\"sha'n't\": \"shall not\",\n",
    "\"shan't've\": \"shall not have\",\n",
    "\"she'd\": \"she would\",\n",
    "\"she'd've\": \"she would have\",\n",
    "\"she'll\": \"she will\",\n",
    "\"she'll've\": \"she will have\",\n",
    "\"she's\": \"she is\",\n",
    "\"should've\": \"should have\",\n",
    "\"shouldn't\": \"should not\",\n",
    "\"shouldn't've\": \"should not have\",\n",
    "\"so've\": \"so have\",\n",
    "\"so's\": \"so as\",\n",
    "\"that'd\": \"that would\",\n",
    "\"that'd've\": \"that would have\",\n",
    "\"that's\": \"that is\",\n",
    "\"there'd\": \"there would\",\n",
    "\"there'd've\": \"there would have\",\n",
    "\"there's\": \"there is\",\n",
    "\"they'd\": \"they would\",\n",
    "\"they'd've\": \"they would have\",\n",
    "\"they'll\": \"they will\",\n",
    "\"they'll've\": \"they will have\",\n",
    "\"they're\": \"they are\",\n",
    "\"they've\": \"they have\",\n",
    "\"to've\": \"to have\",\n",
    "\"wasn't\": \"was not\",\n",
    "\"we'd\": \"we would\",\n",
    "\"we'd've\": \"we would have\",\n",
    "\"we'll\": \"we will\",\n",
    "\"we'll've\": \"we will have\",\n",
    "\"we're\": \"we are\",\n",
    "\"we've\": \"we have\",\n",
    "\"weren't\": \"were not\",\n",
    "\"what'll\": \"what will\",\n",
    "\"what'll've\": \"what will have\",\n",
    "\"what're\": \"what are\",\n",
    "\"what's\": \"what is\",\n",
    "\"what've\": \"what have\",\n",
    "\"when's\": \"when is\",\n",
    "\"when've\": \"when have\",\n",
    "\"where'd\": \"where did\",\n",
    "\"where's\": \"where is\",\n",
    "\"where've\": \"where have\",\n",
    "\"who'll\": \"who will\",\n",
    "\"who'll've\": \"who will have\",\n",
    "\"who's\": \"who is\",\n",
    "\"who've\": \"who have\",\n",
    "\"why's\": \"why is\",\n",
    "\"why've\": \"why have\",\n",
    "\"will've\": \"will have\",\n",
    "\"won't\": \"will not\",\n",
    "\"won't've\": \"will not have\",\n",
    "\"would've\": \"would have\",\n",
    "\"wouldn't\": \"would not\",\n",
    "\"wouldn't've\": \"would not have\",\n",
    "\"y'all\": \"you all\",\n",
    "\"y'all'd\": \"you all would\",\n",
    "\"y'all'd've\": \"you all would have\",\n",
    "\"y'all're\": \"you all are\",\n",
    "\"y'all've\": \"you all have\",\n",
    "\"you'd\": \"you would\",\n",
    "\"you'd've\": \"you would have\",\n",
    "\"you'll\": \"you will\",\n",
    "\"you'll've\": \"you will have\",\n",
    "\"you're\": \"you are\",\n",
    "\"you've\": \"you have\",\n",
    "}"
   ]
  },
  {
   "cell_type": "code",
   "execution_count": 17,
   "id": "fcf7a1c1",
   "metadata": {},
   "outputs": [],
   "source": [
    "def text_cleaning(text):\n",
    "    \n",
    "    #Convert to lowercase\n",
    "    text = text.lower()\n",
    "    \n",
    "    # remove newlines tabs\n",
    "    text = text.replace('\\\\n', ' ').replace('\\n', ' ').replace('\\t',' ').replace('\\\\', ' ').replace('. com', '.com')\n",
    "    \n",
    "    # strip HTML tags\n",
    "    soup = BeautifulSoup(text, \"html.parser\")  # Initiating BeautifulSoup object soup.\n",
    "    text = soup.get_text(separator=\" \") # Get all the text other than html tags.\n",
    "    \n",
    "    # remove links\n",
    "        # Removing all the occurrences of links that starts with https\n",
    "    text = re.sub(r'http\\S+', '', text)\n",
    "        # Remove all the occurrences of text that ends with .com\n",
    "    text = re.sub(r\"\\ [A-Za-z]*\\.com\", \" \", text) \n",
    "    \n",
    "    # remove accented characters from text using unidecode\n",
    "    text = unidecode.unidecode(text)\n",
    "    \n",
    "    # dealing with expand contractions\n",
    "    list_of_tokens = text.split(' ')\n",
    "    for word in list_of_tokens: \n",
    "        # Check whether found word is in dictionary \"Contraction Map\"  \n",
    "         if word in contraction_map: \n",
    "                # If word is present in both dictionary & list_Of_tokens, replace that word with the key value.\n",
    "                list_of_tokens = [item.replace(word, contraction_map[word]) for item in list_of_tokens]\n",
    "                \n",
    "        # Converting list of tokens to String.\n",
    "    text = ' '.join(str(e) for e in list_of_tokens)\n",
    "    \n",
    "    \n",
    "    # remove stopwords\n",
    "    stoplist = stopwords.words('english')\n",
    "    cheat_word = ['tft', 'chess', 'autochess', 'teamfighttactics']\n",
    "    stoplist.append(\"x200b\")\n",
    "    for i in cheat_word:\n",
    "        stoplist.append(i)\n",
    "    stoplist = set(stoplist)\n",
    "    text = repr(text)\n",
    "    wordlist = [word for word in word_tokenize(text) if word not in stoplist]\n",
    "    text = ' '.join(wordlist)\n",
    "    \n",
    "    # remove special characters\n",
    "    text = re.sub(r\"[^a-zA-Z0-9]\", ' ', text)\n",
    "    \n",
    "    # remove whitespaces\n",
    "    text = re.sub( '\\s+', ' ', text).strip()\n",
    "    \n",
    "    \n",
    "    return text"
   ]
  },
  {
   "cell_type": "code",
   "execution_count": 18,
   "id": "59207661",
   "metadata": {},
   "outputs": [
    {
     "data": {
      "text/html": [
       "<div>\n",
       "<style scoped>\n",
       "    .dataframe tbody tr th:only-of-type {\n",
       "        vertical-align: middle;\n",
       "    }\n",
       "\n",
       "    .dataframe tbody tr th {\n",
       "        vertical-align: top;\n",
       "    }\n",
       "\n",
       "    .dataframe thead th {\n",
       "        text-align: right;\n",
       "    }\n",
       "</style>\n",
       "<table border=\"1\" class=\"dataframe\">\n",
       "  <thead>\n",
       "    <tr style=\"text-align: right;\">\n",
       "      <th></th>\n",
       "      <th>selftext</th>\n",
       "      <th>title</th>\n",
       "      <th>text</th>\n",
       "      <th>label</th>\n",
       "    </tr>\n",
       "  </thead>\n",
       "  <tbody>\n",
       "    <tr>\n",
       "      <th>0</th>\n",
       "      <td>Few things I just noticed with quick mode after this patch:\\n- No ability to see what legendary chars are available\\n- Looks like Auto Magi and Otter are just straight gone from lineup (probably many others\\n- No way to do 6-Mage or Beast builds, monkey king gone as well.\\n\\nWhy the heck was none of this mentioned in the patch notes???</td>\n",
       "      <td>Quick mode super broken now</td>\n",
       "      <td>quick mode super broken things noticed quick mode patch ability see legendary chars available looks like auto magi otter straight gone lineup probably many others way 6 mage beast builds monkey king gone well heck none mentioned patch notes</td>\n",
       "      <td>0</td>\n",
       "    </tr>\n",
       "    <tr>\n",
       "      <th>1</th>\n",
       "      <td>I've deleted and re-downloaded. Trying again this last time. Anyone else dealt with this?</td>\n",
       "      <td>Playstation 4. Cannot play, loading screen keeps ending in blue screen.</td>\n",
       "      <td>playstation 4 play loading screen keeps ending blue screen deleted re downloaded trying last time anyone else dealt</td>\n",
       "      <td>0</td>\n",
       "    </tr>\n",
       "    <tr>\n",
       "      <th>2</th>\n",
       "      <td></td>\n",
       "      <td>6 warlock/god Argali back on the menu 🔥 (King-1 Ranked)</td>\n",
       "      <td>6 warlock god argali back menu king 1 ranked</td>\n",
       "      <td>0</td>\n",
       "    </tr>\n",
       "    <tr>\n",
       "      <th>3</th>\n",
       "      <td>Hello everyone. I am a Gmail account I tried to bind my account to dragonest account but I have created another account on dragonest instead of binding on the same email. Is there any way I can delete that account and bind my original account of Gmail to dragonest. Any help would be appreciated thanks in advance</td>\n",
       "      <td>query about linking my account to dragonest account</td>\n",
       "      <td>query linking account dragonest account hello everyone gmail account tried bind account dragonest account created another account dragonest instead binding email way delete account bind original account gmail dragonest help would appreciated thanks advance</td>\n",
       "      <td>0</td>\n",
       "    </tr>\n",
       "    <tr>\n",
       "      <th>4</th>\n",
       "      <td>I have just recently got into the game and wanted to test a few things and want it to go faster than other modes so I play Quick mode a lot. What I have noticed is that it seems like all I go up against are bots? Like they have decently unique names, state they are from different countries, mobile and PC etc. In quick mode, you don't gain interest at all so it is pointless to keep building up your coins, you need to just spend as soon as you can to get 3 stars fast. But I keep realizing that I am winning almost every game and I go to look at opponents and they have like 60 gold when they lose and don't distribute their items at all. I am account level 17 so I shouldn't be playing bots right?</td>\n",
       "      <td>Quick Mode, is it just bots?</td>\n",
       "      <td>quick mode bots recently got game wanted test things want go faster modes play quick mode lot noticed seems like go bots like decently unique names state different countries mobile pc etc quick mode gain interest pointless keep building coins need spend soon get 3 stars fast keep realizing winning almost every game go look opponents like 60 gold lose distribute items account level 17 playing bots right</td>\n",
       "      <td>0</td>\n",
       "    </tr>\n",
       "  </tbody>\n",
       "</table>\n",
       "</div>"
      ],
      "text/plain": [
       "                                                                                                                                                                                                                                                                                                                                                                                                                                                                                                                                                                                                                                                                                                                       selftext  \\\n",
       "0  Few things I just noticed with quick mode after this patch:\\n- No ability to see what legendary chars are available\\n- Looks like Auto Magi and Otter are just straight gone from lineup (probably many others\\n- No way to do 6-Mage or Beast builds, monkey king gone as well.\\n\\nWhy the heck was none of this mentioned in the patch notes???                                                                                                                                                                                                                                                                                                                                                                              \n",
       "1  I've deleted and re-downloaded. Trying again this last time. Anyone else dealt with this?                                                                                                                                                                                                                                                                                                                                                                                                                                                                                                                                                                                                                                      \n",
       "2                                                                                                                                                                                                                                                                                                                                                                                                                                                                                                                                                                                                                                                                                                                                 \n",
       "3  Hello everyone. I am a Gmail account I tried to bind my account to dragonest account but I have created another account on dragonest instead of binding on the same email. Is there any way I can delete that account and bind my original account of Gmail to dragonest. Any help would be appreciated thanks in advance                                                                                                                                                                                                                                                                                                                                                                                                      \n",
       "4  I have just recently got into the game and wanted to test a few things and want it to go faster than other modes so I play Quick mode a lot. What I have noticed is that it seems like all I go up against are bots? Like they have decently unique names, state they are from different countries, mobile and PC etc. In quick mode, you don't gain interest at all so it is pointless to keep building up your coins, you need to just spend as soon as you can to get 3 stars fast. But I keep realizing that I am winning almost every game and I go to look at opponents and they have like 60 gold when they lose and don't distribute their items at all. I am account level 17 so I shouldn't be playing bots right?   \n",
       "\n",
       "                                                                     title  \\\n",
       "0  Quick mode super broken now                                               \n",
       "1  Playstation 4. Cannot play, loading screen keeps ending in blue screen.   \n",
       "2  6 warlock/god Argali back on the menu 🔥 (King-1 Ranked)                   \n",
       "3  query about linking my account to dragonest account                       \n",
       "4  Quick Mode, is it just bots?                                              \n",
       "\n",
       "                                                                                                                                                                                                                                                                                                                                                                                                                    text  \\\n",
       "0  quick mode super broken things noticed quick mode patch ability see legendary chars available looks like auto magi otter straight gone lineup probably many others way 6 mage beast builds monkey king gone well heck none mentioned patch notes                                                                                                                                                                        \n",
       "1  playstation 4 play loading screen keeps ending blue screen deleted re downloaded trying last time anyone else dealt                                                                                                                                                                                                                                                                                                     \n",
       "2  6 warlock god argali back menu king 1 ranked                                                                                                                                                                                                                                                                                                                                                                            \n",
       "3  query linking account dragonest account hello everyone gmail account tried bind account dragonest account created another account dragonest instead binding email way delete account bind original account gmail dragonest help would appreciated thanks advance                                                                                                                                                        \n",
       "4  quick mode bots recently got game wanted test things want go faster modes play quick mode lot noticed seems like go bots like decently unique names state different countries mobile pc etc quick mode gain interest pointless keep building coins need spend soon get 3 stars fast keep realizing winning almost every game go look opponents like 60 gold lose distribute items account level 17 playing bots right   \n",
       "\n",
       "   label  \n",
       "0  0      \n",
       "1  0      \n",
       "2  0      \n",
       "3  0      \n",
       "4  0      "
      ]
     },
     "execution_count": 18,
     "metadata": {},
     "output_type": "execute_result"
    }
   ],
   "source": [
    "df['text'] = df.apply(lambda x: text_cleaning(x['text']), axis=1)\n",
    "df.head()"
   ]
  },
  {
   "cell_type": "code",
   "execution_count": 19,
   "id": "34c6f1e9",
   "metadata": {},
   "outputs": [],
   "source": [
    "# others to look into, other languages other than english? mis-spelled words?\n",
    "# removing &amp;#x200B (REMOVED); character code for a Zero-witdh space, which is a character that acts like a spacebar, except it's invisible."
   ]
  },
  {
   "cell_type": "markdown",
   "id": "696afac8",
   "metadata": {},
   "source": [
    "### 2.3 Lemmatization \n",
    "\n",
    "Lemmatization will transform the word to its root form by considering the context."
   ]
  },
  {
   "cell_type": "code",
   "execution_count": 20,
   "id": "501a77d8",
   "metadata": {},
   "outputs": [],
   "source": [
    "lemmatizer = WordNetLemmatizer()\n",
    "\n",
    "def lemmatization(text):\n",
    "    token = word_tokenize(text)\n",
    "    sentence = []\n",
    "    for word in token:\n",
    "        # remove whitespaces\n",
    "        word = re.sub( '\\s+', ' ', word)\n",
    "        sentence.append(lemmatizer.lemmatize(word))\n",
    "        sentence.append(\" \")\n",
    "\n",
    "    return \"\".join(sentence)\n",
    "6 warlock god argali back menu king 1 ranked\t"
   ]
  },
  {
   "cell_type": "code",
   "execution_count": 21,
   "id": "35aeb1fd",
   "metadata": {},
   "outputs": [
    {
     "data": {
      "text/html": [
       "<div>\n",
       "<style scoped>\n",
       "    .dataframe tbody tr th:only-of-type {\n",
       "        vertical-align: middle;\n",
       "    }\n",
       "\n",
       "    .dataframe tbody tr th {\n",
       "        vertical-align: top;\n",
       "    }\n",
       "\n",
       "    .dataframe thead th {\n",
       "        text-align: right;\n",
       "    }\n",
       "</style>\n",
       "<table border=\"1\" class=\"dataframe\">\n",
       "  <thead>\n",
       "    <tr style=\"text-align: right;\">\n",
       "      <th></th>\n",
       "      <th>selftext</th>\n",
       "      <th>title</th>\n",
       "      <th>text</th>\n",
       "      <th>label</th>\n",
       "    </tr>\n",
       "  </thead>\n",
       "  <tbody>\n",
       "    <tr>\n",
       "      <th>0</th>\n",
       "      <td>Few things I just noticed with quick mode after this patch:\\n- No ability to see what legendary chars are available\\n- Looks like Auto Magi and Otter are just straight gone from lineup (probably many others\\n- No way to do 6-Mage or Beast builds, monkey king gone as well.\\n\\nWhy the heck was none of this mentioned in the patch notes???</td>\n",
       "      <td>Quick mode super broken now</td>\n",
       "      <td>quick mode super broken thing noticed quick mode patch ability see legendary char available look like auto magi otter straight gone lineup probably many others way 6 mage beast build monkey king gone well heck none mentioned patch note</td>\n",
       "      <td>0</td>\n",
       "    </tr>\n",
       "    <tr>\n",
       "      <th>1</th>\n",
       "      <td>I've deleted and re-downloaded. Trying again this last time. Anyone else dealt with this?</td>\n",
       "      <td>Playstation 4. Cannot play, loading screen keeps ending in blue screen.</td>\n",
       "      <td>playstation 4 play loading screen keep ending blue screen deleted re downloaded trying last time anyone else dealt</td>\n",
       "      <td>0</td>\n",
       "    </tr>\n",
       "    <tr>\n",
       "      <th>2</th>\n",
       "      <td></td>\n",
       "      <td>6 warlock/god Argali back on the menu 🔥 (King-1 Ranked)</td>\n",
       "      <td>6 warlock god argali back menu king 1 ranked</td>\n",
       "      <td>0</td>\n",
       "    </tr>\n",
       "    <tr>\n",
       "      <th>3</th>\n",
       "      <td>Hello everyone. I am a Gmail account I tried to bind my account to dragonest account but I have created another account on dragonest instead of binding on the same email. Is there any way I can delete that account and bind my original account of Gmail to dragonest. Any help would be appreciated thanks in advance</td>\n",
       "      <td>query about linking my account to dragonest account</td>\n",
       "      <td>query linking account dragonest account hello everyone gmail account tried bind account dragonest account created another account dragonest instead binding email way delete account bind original account gmail dragonest help would appreciated thanks advance</td>\n",
       "      <td>0</td>\n",
       "    </tr>\n",
       "    <tr>\n",
       "      <th>4</th>\n",
       "      <td>I have just recently got into the game and wanted to test a few things and want it to go faster than other modes so I play Quick mode a lot. What I have noticed is that it seems like all I go up against are bots? Like they have decently unique names, state they are from different countries, mobile and PC etc. In quick mode, you don't gain interest at all so it is pointless to keep building up your coins, you need to just spend as soon as you can to get 3 stars fast. But I keep realizing that I am winning almost every game and I go to look at opponents and they have like 60 gold when they lose and don't distribute their items at all. I am account level 17 so I shouldn't be playing bots right?</td>\n",
       "      <td>Quick Mode, is it just bots?</td>\n",
       "      <td>quick mode bot recently got game wanted test thing want go faster mode play quick mode lot noticed seems like go bot like decently unique name state different country mobile pc etc quick mode gain interest pointless keep building coin need spend soon get 3 star fast keep realizing winning almost every game go look opponent like 60 gold lose distribute item account level 17 playing bot right</td>\n",
       "      <td>0</td>\n",
       "    </tr>\n",
       "  </tbody>\n",
       "</table>\n",
       "</div>"
      ],
      "text/plain": [
       "                                                                                                                                                                                                                                                                                                                                                                                                                                                                                                                                                                                                                                                                                                                       selftext  \\\n",
       "0  Few things I just noticed with quick mode after this patch:\\n- No ability to see what legendary chars are available\\n- Looks like Auto Magi and Otter are just straight gone from lineup (probably many others\\n- No way to do 6-Mage or Beast builds, monkey king gone as well.\\n\\nWhy the heck was none of this mentioned in the patch notes???                                                                                                                                                                                                                                                                                                                                                                              \n",
       "1  I've deleted and re-downloaded. Trying again this last time. Anyone else dealt with this?                                                                                                                                                                                                                                                                                                                                                                                                                                                                                                                                                                                                                                      \n",
       "2                                                                                                                                                                                                                                                                                                                                                                                                                                                                                                                                                                                                                                                                                                                                 \n",
       "3  Hello everyone. I am a Gmail account I tried to bind my account to dragonest account but I have created another account on dragonest instead of binding on the same email. Is there any way I can delete that account and bind my original account of Gmail to dragonest. Any help would be appreciated thanks in advance                                                                                                                                                                                                                                                                                                                                                                                                      \n",
       "4  I have just recently got into the game and wanted to test a few things and want it to go faster than other modes so I play Quick mode a lot. What I have noticed is that it seems like all I go up against are bots? Like they have decently unique names, state they are from different countries, mobile and PC etc. In quick mode, you don't gain interest at all so it is pointless to keep building up your coins, you need to just spend as soon as you can to get 3 stars fast. But I keep realizing that I am winning almost every game and I go to look at opponents and they have like 60 gold when they lose and don't distribute their items at all. I am account level 17 so I shouldn't be playing bots right?   \n",
       "\n",
       "                                                                     title  \\\n",
       "0  Quick mode super broken now                                               \n",
       "1  Playstation 4. Cannot play, loading screen keeps ending in blue screen.   \n",
       "2  6 warlock/god Argali back on the menu 🔥 (King-1 Ranked)                   \n",
       "3  query about linking my account to dragonest account                       \n",
       "4  Quick Mode, is it just bots?                                              \n",
       "\n",
       "                                                                                                                                                                                                                                                                                                                                                                                                         text  \\\n",
       "0  quick mode super broken thing noticed quick mode patch ability see legendary char available look like auto magi otter straight gone lineup probably many others way 6 mage beast build monkey king gone well heck none mentioned patch note                                                                                                                                                                  \n",
       "1  playstation 4 play loading screen keep ending blue screen deleted re downloaded trying last time anyone else dealt                                                                                                                                                                                                                                                                                           \n",
       "2  6 warlock god argali back menu king 1 ranked                                                                                                                                                                                                                                                                                                                                                                 \n",
       "3  query linking account dragonest account hello everyone gmail account tried bind account dragonest account created another account dragonest instead binding email way delete account bind original account gmail dragonest help would appreciated thanks advance                                                                                                                                             \n",
       "4  quick mode bot recently got game wanted test thing want go faster mode play quick mode lot noticed seems like go bot like decently unique name state different country mobile pc etc quick mode gain interest pointless keep building coin need spend soon get 3 star fast keep realizing winning almost every game go look opponent like 60 gold lose distribute item account level 17 playing bot right    \n",
       "\n",
       "   label  \n",
       "0  0      \n",
       "1  0      \n",
       "2  0      \n",
       "3  0      \n",
       "4  0      "
      ]
     },
     "execution_count": 21,
     "metadata": {},
     "output_type": "execute_result"
    }
   ],
   "source": [
    "df['text'] = df.apply(lambda x: lemmatization(x['text']), axis=1)\n",
    "df.head()"
   ]
  },
  {
   "cell_type": "markdown",
   "id": "54701de9",
   "metadata": {},
   "source": [
    "### 2.4 Create Word Cloud for Visualisation\n"
   ]
  },
  {
   "cell_type": "code",
   "execution_count": 22,
   "id": "f9012ad2",
   "metadata": {},
   "outputs": [
    {
     "data": {
      "image/png": "[encoded data removed]",
      "text/plain": [
       "<Figure size 432x288 with 1 Axes>"
      ]
     },
     "metadata": {
      "needs_background": "light"
     },
     "output_type": "display_data"
    }
   ],
   "source": [
    "# For AutoChess\n",
    "\n",
    "# Join all text:\n",
    "autochess = \" \".join(text for text in df[df[\"label\"]==0]['text'])\n",
    "#Create and generate a word cloud image:\n",
    "wordcloud_autochess = WordCloud(collocations=False,background_color=\"white\",colormap='ocean', max_words=150).generate(autochess)\n",
    "\n",
    "# Display the generated image:\n",
    "plt.imshow(wordcloud_autochess, interpolation='bilinear',aspect=\"auto\")\n",
    "plt.axis(\"off\")\n",
    "\n",
    "# store to file\n",
    "# plt.savefig(\"./images/autochess.png\", format=\"png\")\n",
    "plt.show()"
   ]
  },
  {
   "cell_type": "code",
   "execution_count": 23,
   "id": "1d8383d1",
   "metadata": {},
   "outputs": [
    {
     "data": {
      "image/png": "[encoded data removed]",
      "text/plain": [
       "<Figure size 432x288 with 1 Axes>"
      ]
     },
     "metadata": {
      "needs_background": "light"
     },
     "output_type": "display_data"
    }
   ],
   "source": [
    "# For TeamfightTactics\n",
    "\n",
    "# Join all text:\n",
    "tft = \" \".join(text for text in df[df[\"label\"]==1]['text'])\n",
    "#Create and generate a word cloud image:\n",
    "wordcloud_tft = WordCloud(collocations=False,background_color=\"white\", colormap='ocean', max_words=150).generate(tft)\n",
    "\n",
    "# Display the generated image:\n",
    "plt.imshow(wordcloud_tft, interpolation='bilinear',aspect=\"auto\")\n",
    "plt.axis(\"off\")\n",
    "\n",
    "# store to file\n",
    "# plt.savefig(\"./images/tft.png\", format=\"png\")\n",
    "plt.show()"
   ]
  },
  {
   "cell_type": "markdown",
   "id": "7452536a",
   "metadata": {},
   "source": [
    "Just based on visualiation, there are a few words that occur quite frequently for both subreddits. These words are 'game', 'build', 'unit', 'item' and 'time'."
   ]
  },
  {
   "cell_type": "markdown",
   "id": "041624aa",
   "metadata": {},
   "source": [
    "## 3. Modelling Random Forest\n"
   ]
  },
  {
   "cell_type": "code",
   "execution_count": 24,
   "id": "bb26064c",
   "metadata": {},
   "outputs": [
    {
     "data": {
      "text/plain": [
       "1    0.500763\n",
       "0    0.499237\n",
       "Name: label, dtype: float64"
      ]
     },
     "execution_count": 24,
     "metadata": {},
     "output_type": "execute_result"
    }
   ],
   "source": [
    "# Check baseline accuracy\n",
    "\n",
    "df['label'].value_counts(normalize=1)"
   ]
  },
  {
   "cell_type": "markdown",
   "id": "8b8af488",
   "metadata": {},
   "source": [
    "As the data percentage is about 50-50, we do not need to address the issue of data imbalance. "
   ]
  },
  {
   "cell_type": "code",
   "execution_count": 25,
   "id": "45bbdcaa",
   "metadata": {},
   "outputs": [],
   "source": [
    "X = df['text']\n",
    "y = df['label']"
   ]
  },
  {
   "cell_type": "code",
   "execution_count": 26,
   "id": "246d0752",
   "metadata": {},
   "outputs": [
    {
     "data": {
      "text/plain": [
       "1    0.500763\n",
       "0    0.499237\n",
       "Name: label, dtype: float64"
      ]
     },
     "execution_count": 26,
     "metadata": {},
     "output_type": "execute_result"
    }
   ],
   "source": [
    "y.value_counts(normalize = True)"
   ]
  },
  {
   "cell_type": "code",
   "execution_count": 27,
   "id": "790daa61",
   "metadata": {},
   "outputs": [],
   "source": [
    "#Split the data into the training and testing sets.\n",
    "X_train, X_test, y_train, y_test = train_test_split(X,\n",
    "                                                    y,\n",
    "                                                    test_size=0.25,\n",
    "                                                    stratify=y,\n",
    "                                                    random_state=42)"
   ]
  },
  {
   "cell_type": "code",
   "execution_count": 28,
   "id": "af05d17a",
   "metadata": {},
   "outputs": [
    {
     "data": {
      "text/plain": [
       "((2949,), (983,))"
      ]
     },
     "execution_count": 28,
     "metadata": {},
     "output_type": "execute_result"
    }
   ],
   "source": [
    "X_train.shape, X_test.shape"
   ]
  },
  {
   "cell_type": "markdown",
   "id": "ceada2e6",
   "metadata": {},
   "source": [
    "### 3.1 CountVectorizer vs TF-IDF Vectorizer"
   ]
  },
  {
   "cell_type": "markdown",
   "id": "a7250864",
   "metadata": {},
   "source": [
    "For this section, I would want to compare which vectorizer, CountVectorizer or TF-IDF Vectorizer will produce a better result and use it as the base model for comparison.\n",
    "\n",
    "These two Vectorizer are methods for converting text data into vectors as our model can only process numerical data.\n",
    "\n",
    "For CountVectorizer, it only counts the number of times a word appears in the document. While for TfidfVectorizer, it considers the overall document weightage of a word by taking into accounts both the term frequency and document frequency."
   ]
  },
  {
   "cell_type": "markdown",
   "id": "24ccd250",
   "metadata": {},
   "source": [
    "#### CountVectorizer\n",
    "\n"
   ]
  },
  {
   "cell_type": "code",
   "execution_count": 29,
   "id": "589260e6",
   "metadata": {},
   "outputs": [],
   "source": [
    "# Instantiate and fit the transformer.\n",
    "cv = CountVectorizer(max_features = 10000,\n",
    "                        min_df=2,\n",
    "                        max_df=0.9,\n",
    "                        ngram_range=(1,2))"
   ]
  },
  {
   "cell_type": "code",
   "execution_count": 30,
   "id": "9bb25278",
   "metadata": {},
   "outputs": [],
   "source": [
    "X_train_cv = cv.fit_transform(X_train)\n",
    "X_test_cv = cv.transform(X_test)"
   ]
  },
  {
   "cell_type": "code",
   "execution_count": 31,
   "id": "f76d3061",
   "metadata": {},
   "outputs": [
    {
     "data": {
      "image/png": "[encoded data removed]",
      "text/plain": [
       "<Figure size 432x288 with 1 Axes>"
      ]
     },
     "metadata": {
      "needs_background": "light"
     },
     "output_type": "display_data"
    }
   ],
   "source": [
    "# Visualising top occuring words - CountVectorizer\n",
    "\n",
    "X_train_cv_df = pd.DataFrame(X_train_cv.todense(), \n",
    "                          columns=cv.get_feature_names())\n",
    "\n",
    "# plot top occuring words\n",
    "X_train_cv_df.sum().sort_values(ascending=False).head(10).plot(kind='barh')\n",
    "\n",
    "# plot axis label\n",
    "plt.xlabel('frequency')\n",
    "plt.ylabel('word')\n",
    "\n",
    "# plot title\n",
    "plt.title('CountVectorizer');\n",
    "\n",
    "# plt.savefig(\"./images/cv_wordfreq.png\", format=\"png\")"
   ]
  },
  {
   "cell_type": "code",
   "execution_count": null,
   "id": "c57d846b",
   "metadata": {},
   "outputs": [],
   "source": [
    "feature_name_cv = X_train_cv_df.sum().sort_values(ascending=False).to_frame(name='Frequency')\n",
    "feature_name_cv.head(10)"
   ]
  },
  {
   "cell_type": "code",
   "execution_count": 32,
   "id": "39e48266",
   "metadata": {},
   "outputs": [],
   "source": [
    "rf_cv = RandomForestClassifier()"
   ]
  },
  {
   "cell_type": "code",
   "execution_count": 33,
   "id": "68aab1c0",
   "metadata": {},
   "outputs": [
    {
     "data": {
      "text/plain": [
       "RandomForestClassifier()"
      ]
     },
     "execution_count": 33,
     "metadata": {},
     "output_type": "execute_result"
    }
   ],
   "source": [
    "rf_cv.fit(X_train_cv, y_train)"
   ]
  },
  {
   "cell_type": "code",
   "execution_count": 34,
   "id": "6a7bad0e",
   "metadata": {},
   "outputs": [
    {
     "name": "stdout",
     "output_type": "stream",
     "text": [
      "Train Score:  0.9963\n",
      "Test Score:  0.8759\n"
     ]
    }
   ],
   "source": [
    "print(\"Train Score: \", round(rf_cv.score(X_train_cv, y_train),4))\n",
    "print(\"Test Score: \", round(rf_cv.score(X_test_cv, y_test),4))"
   ]
  },
  {
   "cell_type": "code",
   "execution_count": 35,
   "id": "11e91696",
   "metadata": {},
   "outputs": [
    {
     "name": "stdout",
     "output_type": "stream",
     "text": [
      "Specificity: 0.8594704684317719\n",
      "Sensitivity: 0.8922764227642277\n"
     ]
    }
   ],
   "source": [
    "# Get predictions\n",
    "preds_cv = rf_cv.predict(X_test_cv)\n",
    "\n",
    "# Save confusion matrix values\n",
    "tn, fp, fn, tp = confusion_matrix(y_test, preds_cv).ravel()\n",
    "\n",
    "# Calculate the specificity\n",
    "\n",
    "spec = tn / (tn + fp)\n",
    "\n",
    "# Calculate the sensitivity\n",
    "\n",
    "sens = tp / (tp + fn)\n",
    "\n",
    "print('Specificity:', spec)\n",
    "print('Sensitivity:', sens)"
   ]
  },
  {
   "cell_type": "code",
   "execution_count": 36,
   "id": "26140809",
   "metadata": {},
   "outputs": [
    {
     "data": {
      "image/png": "[encoded data removed]",
      "text/plain": [
       "<Figure size 432x288 with 2 Axes>"
      ]
     },
     "metadata": {
      "needs_background": "light"
     },
     "output_type": "display_data"
    }
   ],
   "source": [
    "# visualize this\n",
    "\n",
    "plot_confusion_matrix(rf_cv, X_test_cv, y_test, cmap='Blues', values_format='d');\n",
    "plt.title('CV_RandomForest (default) - Confusion Matrix');"
   ]
  },
  {
   "cell_type": "markdown",
   "id": "c2e5cb98",
   "metadata": {},
   "source": [
    "#### TF-IDF Vectorizer"
   ]
  },
  {
   "cell_type": "code",
   "execution_count": 37,
   "id": "ea773a58",
   "metadata": {},
   "outputs": [],
   "source": [
    "# Instantiate and fit the transformer.\n",
    "tvec = TfidfVectorizer(max_features = 10000,\n",
    "                            min_df=2,\n",
    "                            max_df=0.9,\n",
    "                            ngram_range=(1,2))"
   ]
  },
  {
   "cell_type": "code",
   "execution_count": 38,
   "id": "46f332ad",
   "metadata": {},
   "outputs": [],
   "source": [
    "X_train_tvec = tvec.fit_transform(X_train)\n",
    "X_test_tvec = tvec.transform(X_test)"
   ]
  },
  {
   "cell_type": "code",
   "execution_count": 39,
   "id": "c94dbfda",
   "metadata": {},
   "outputs": [
    {
     "data": {
      "image/png": "[encoded data removed]",
      "text/plain": [
       "<Figure size 432x288 with 1 Axes>"
      ]
     },
     "metadata": {
      "needs_background": "light"
     },
     "output_type": "display_data"
    }
   ],
   "source": [
    "# Visualising top occuring words - tfidfVectorizer\n",
    "\n",
    "# convert training data to dataframe\n",
    "X_train_tvec_df = pd.DataFrame(X_train_tvec.todense(), \n",
    "                          columns=tvec.get_feature_names())\n",
    "\n",
    "# plot top occuring words\n",
    "X_train_tvec_df.sum().sort_values(ascending=False).head(10).plot(kind='barh')\n",
    "\n",
    "# plot axis label\n",
    "plt.xlabel('frequency')\n",
    "plt.ylabel('word')\n",
    "\n",
    "# plot title\n",
    "plt.title('TF-IDF Vectorizer');\n",
    "\n",
    "# plt.savefig(\"./images/tvec_wordfreq.png\", format=\"png\")"
   ]
  },
  {
   "cell_type": "code",
   "execution_count": null,
   "id": "6c6ebe19",
   "metadata": {},
   "outputs": [],
   "source": [
    "feature_name_tvec = X_train_tvec_df.sum().sort_values(ascending=False).to_frame(name='Frequency')\n",
    "feature_name_tvec.head(10)"
   ]
  },
  {
   "cell_type": "code",
   "execution_count": 40,
   "id": "de2104c5",
   "metadata": {},
   "outputs": [],
   "source": [
    "rf_tvec = RandomForestClassifier()"
   ]
  },
  {
   "cell_type": "code",
   "execution_count": 41,
   "id": "7ad3e817",
   "metadata": {},
   "outputs": [
    {
     "data": {
      "text/plain": [
       "RandomForestClassifier()"
      ]
     },
     "execution_count": 41,
     "metadata": {},
     "output_type": "execute_result"
    }
   ],
   "source": [
    "rf_tvec.fit(X_train_tvec, y_train)"
   ]
  },
  {
   "cell_type": "code",
   "execution_count": 42,
   "id": "d90665d9",
   "metadata": {},
   "outputs": [
    {
     "name": "stdout",
     "output_type": "stream",
     "text": [
      "Train Score:  0.9963\n",
      "Test Score:  0.8718\n"
     ]
    }
   ],
   "source": [
    "print(\"Train Score: \", round(rf_tvec.score(X_train_tvec, y_train),4))\n",
    "print(\"Test Score: \", round(rf_tvec.score(X_test_tvec, y_test),4))"
   ]
  },
  {
   "cell_type": "code",
   "execution_count": 43,
   "id": "88780e6a",
   "metadata": {},
   "outputs": [
    {
     "name": "stdout",
     "output_type": "stream",
     "text": [
      "Specificity: 0.8574338085539714\n",
      "Sensitivity: 0.8861788617886179\n"
     ]
    }
   ],
   "source": [
    "# Get predictions\n",
    "preds_tvec = rf_tvec.predict(X_test_tvec)\n",
    "\n",
    "# Save confusion matrix values\n",
    "tn, fp, fn, tp = confusion_matrix(y_test, preds_tvec).ravel()\n",
    "\n",
    "# Calculate the specificity\n",
    "\n",
    "spec = tn / (tn + fp)\n",
    "\n",
    "# Calculate the sensitivity\n",
    "\n",
    "sens = tp / (tp + fn)\n",
    "\n",
    "print('Specificity:', spec)\n",
    "print('Sensitivity:', sens)"
   ]
  },
  {
   "cell_type": "code",
   "execution_count": 44,
   "id": "61919c37",
   "metadata": {},
   "outputs": [
    {
     "data": {
      "image/png": "[encoded data removed]",
      "text/plain": [
       "<Figure size 432x288 with 2 Axes>"
      ]
     },
     "metadata": {
      "needs_background": "light"
     },
     "output_type": "display_data"
    }
   ],
   "source": [
    "# visualize this\n",
    "\n",
    "plot_confusion_matrix(rf_tvec, X_test_tvec, y_test, cmap='Blues', values_format='d')\n",
    "plt.title('TF-IDF Vectorizer_RandomForest (default) - Confusion Matrix');"
   ]
  },
  {
   "cell_type": "markdown",
   "id": "7f42ea69",
   "metadata": {},
   "source": [
    "As the train score and test score is about the same for both CountVectorizer and tfidfVectorizer random forest models, we would look at the the specificity and sensitivity. In this context of subreddit post classification problem, there will not be a case of specificity is more important than sensitivity or sensitivity is more important than specificity. For this case, we would want to get both the sensitivity and specificity as high as possible. \n",
    "\n",
    "As the specificity and sensitivity for both model is about the same, I would just select tfidfVectorizer random forest model as the base model."
   ]
  },
  {
   "cell_type": "markdown",
   "id": "e2c088cc",
   "metadata": {},
   "source": [
    "### 3.2 Random Forest Hyperparameter tuning"
   ]
  },
  {
   "cell_type": "markdown",
   "id": "73801f7c",
   "metadata": {},
   "source": [
    "Using Scikit-Learn's RandomizedSearchCV will help to evaluate a wide range of values for each hyperparameters. RandomizedSearchCV will randomly sample from the defined grid of hyperparameters range. Whereas for GridSearchCV, all the parameter values will be tried out. \n",
    "\n",
    "We would first use RandomizedSearchCV to narrow down the range for each hyperparameters then use GridSearchCV to try for every combination of parameter values to get the best result.\n",
    "\n",
    "\n",
    "Reference for random forest hyperparameter tuning: [click here](https://towardsdatascience.com/hyperparameter-tuning-the-random-forest-in-python-using-scikit-learn-28d2aa77dd74)"
   ]
  },
  {
   "cell_type": "markdown",
   "id": "fe0fb635",
   "metadata": {},
   "source": [
    "#### RandomizedSearchCV"
   ]
  },
  {
   "cell_type": "code",
   "execution_count": 47,
   "id": "2bd0a9c5",
   "metadata": {},
   "outputs": [],
   "source": [
    "rf_pipe = Pipeline([\n",
    "    ('tvec', TfidfVectorizer()),\n",
    "    ('rf', RandomForestClassifier())\n",
    "\n",
    "])"
   ]
  },
  {
   "cell_type": "code",
   "execution_count": 48,
   "id": "c48b47ed",
   "metadata": {},
   "outputs": [],
   "source": [
    "rf = RandomForestClassifier()\n",
    "from pprint import pprint"
   ]
  },
  {
   "cell_type": "code",
   "execution_count": 49,
   "id": "544cd6d9",
   "metadata": {},
   "outputs": [
    {
     "name": "stdout",
     "output_type": "stream",
     "text": [
      "Parameters currently in use:\n",
      "\n",
      "{'bootstrap': True,\n",
      " 'ccp_alpha': 0.0,\n",
      " 'class_weight': None,\n",
      " 'criterion': 'gini',\n",
      " 'max_depth': None,\n",
      " 'max_features': 'auto',\n",
      " 'max_leaf_nodes': None,\n",
      " 'max_samples': None,\n",
      " 'min_impurity_decrease': 0.0,\n",
      " 'min_impurity_split': None,\n",
      " 'min_samples_leaf': 1,\n",
      " 'min_samples_split': 2,\n",
      " 'min_weight_fraction_leaf': 0.0,\n",
      " 'n_estimators': 100,\n",
      " 'n_jobs': None,\n",
      " 'oob_score': False,\n",
      " 'random_state': None,\n",
      " 'verbose': 0,\n",
      " 'warm_start': False}\n"
     ]
    }
   ],
   "source": [
    "print('Parameters currently in use:\\n')\n",
    "pprint(rf.get_params())"
   ]
  },
  {
   "cell_type": "code",
   "execution_count": 50,
   "id": "98ed9fe7",
   "metadata": {},
   "outputs": [
    {
     "name": "stdout",
     "output_type": "stream",
     "text": [
      "{'rf__bootstrap': [True, False],\n",
      " 'rf__max_depth': [10, 20, 30, 40, 50, 60, 70, 80, 90, 100, 110, None],\n",
      " 'rf__max_features': ['auto', 'log2', None],\n",
      " 'rf__min_samples_leaf': [1, 2, 4],\n",
      " 'rf__min_samples_split': [2, 5, 10],\n",
      " 'rf__n_estimators': [200, 400, 600, 800, 1000, 1200, 1400, 1600, 1800, 2000],\n",
      " 'tvec__max_df': [0.9, 0.95],\n",
      " 'tvec__max_features': [1000, 2000, 4000, 6000, 8000, 10000],\n",
      " 'tvec__min_df': [2, 3, 4],\n",
      " 'tvec__ngram_range': [(1, 1), (1, 2)]}\n"
     ]
    }
   ],
   "source": [
    "from sklearn.model_selection import RandomizedSearchCV\n",
    "\n",
    "# Number of trees in random forest\n",
    "n_estimators = [int(x) for x in np.linspace(start = 200, stop = 2000, num = 10)]\n",
    "\n",
    "# Number of features to consider at every split\n",
    "max_features = ['auto', 'log2']\n",
    "max_features.append(None)\n",
    "\n",
    "# Maximum number of levels in tree\n",
    "max_depth = [int(x) for x in np.linspace(10, 110, num = 11)]\n",
    "max_depth.append(None)\n",
    "\n",
    "# Minimum number of samples required to split a node\n",
    "min_samples_split = [2, 5, 10]\n",
    "\n",
    "# Minimum number of samples required at each leaf node\n",
    "min_samples_leaf = [1, 2, 4]\n",
    "\n",
    "# Method of selecting samples for training each tree\n",
    "bootstrap = [True, False]\n",
    "\n",
    "\n",
    "# Create the random grid\n",
    "random_grid = {\n",
    "                'tvec__max_features':[1000, 2000, 4000, 6000, 8000, 10000],\n",
    "                'tvec__ngram_range': [(1, 1), (1, 2)],\n",
    "                'tvec__min_df': [2, 3, 4],\n",
    "                'tvec__max_df': [0.9, 0.95],\n",
    "                'rf__n_estimators': n_estimators,\n",
    "                'rf__max_features': max_features,\n",
    "                'rf__max_depth': max_depth,\n",
    "                'rf__min_samples_split': min_samples_split,\n",
    "                'rf__min_samples_leaf': min_samples_leaf,\n",
    "                'rf__bootstrap': bootstrap}\n",
    "pprint(random_grid)"
   ]
  },
  {
   "cell_type": "code",
   "execution_count": 51,
   "id": "34942cef",
   "metadata": {},
   "outputs": [],
   "source": [
    "# Use the random grid to search for best hyperparameters\n",
    "# First create the base model to tune\n",
    "#rf = RandomForestClassifier()\n",
    "\n",
    "# Random search of parameters, using 3 fold cross validation, \n",
    "# search across 100 different combinations, and use all available cores\n",
    "#rf_random = RandomizedSearchCV(estimator = rf_pipe, param_distributions = random_grid, n_iter = 100, cv = 3, verbose=2, random_state=42, n_jobs = -1)\n",
    "\n",
    "# Fit the random search model\n",
    "#rf_random.fit(X_train, y_train)"
   ]
  },
  {
   "cell_type": "code",
   "execution_count": 52,
   "id": "1cdbac34",
   "metadata": {},
   "outputs": [],
   "source": [
    "#rf_random.best_params_\n",
    "\n",
    "# rf_random.best_params_ = {\n",
    "#        'tvec__ngram_range': (1, 1),\n",
    "#        'tvec__min_df': 2,\n",
    "#        'tvec__max_df': 0.9,\n",
    "#        'tvec__max_features': 6000,\n",
    "#        'rf__n_estimators': 1200,\n",
    "#        'rf__min_samples_split': 5,\n",
    "#        'rf__min_samples_leaf': 2,\n",
    "#        'rf__max_features': 'log2',\n",
    "#        'rf__max_depth': 50,\n",
    "#        'rf__bootstrap': True\n",
    "\n",
    "#}\n",
    "\n",
    "# Original best_params (p.s. accidentally re-run the cell and the best_params changed, here is the original best__paModedddd"
   ]
  },
  {
   "cell_type": "code",
   "execution_count": 53,
   "id": "1b1ea0e3",
   "metadata": {},
   "outputs": [],
   "source": [
    "# pickle the model\n",
    "import pickle\n",
    "\n",
    "best_random_file = './models/random_rf1.sav'\n",
    "# pickle.dump(best_random, open(best_random_file, 'wb'))\n",
    "\n",
    "\n",
    "# load the pickled model\n",
    "random_rf = pickle.load(open(best_random_file, 'rb'))"
   ]
  },
  {
   "cell_type": "code",
   "execution_count": 55,
   "id": "e0de1b92",
   "metadata": {},
   "outputs": [],
   "source": [
    "# Evaluate accuracy\n",
    "from sklearn.metrics import accuracy_score\n",
    "\n",
    "def evaluate(model, test_features, test_labels):\n",
    "    y_pred = model.predict(test_features)\n",
    "    accuracy = accuracy_score(test_labels, y_pred)\n",
    "    print('Accuracy = {:0.3f}.'.format(accuracy))\n",
    "    \n",
    "    return accuracy\n"
   ]
  },
  {
   "cell_type": "code",
   "execution_count": 56,
   "id": "324f01b9",
   "metadata": {},
   "outputs": [
    {
     "name": "stdout",
     "output_type": "stream",
     "text": [
      "Base model score:\n",
      "Train Cross Val Score:  0.8447\n",
      "Test Cross Val Score:  0.8199\n",
      "Accuracy = 0.872.\n"
     ]
    }
   ],
   "source": [
    "base_model = rf_tvec\n",
    "print(\"Base model score:\")\n",
    "print(\"Train Cross Val Score: \",round(cross_val_score(base_model, X_train_tvec, y_train, cv=5).mean(),4))\n",
    "print(\"Test Cross Val Score: \",round(cross_val_score(base_model, X_test_tvec, y_test, cv=5).mean(),4))\n",
    "base_accuracy = evaluate(base_model, X_test_tvec, y_test)"
   ]
  },
  {
   "cell_type": "code",
   "execution_count": 57,
   "id": "82ada257",
   "metadata": {},
   "outputs": [
    {
     "name": "stdout",
     "output_type": "stream",
     "text": [
      "RandomizedSearchCV model score:\n",
      "Train Cross Val Score:  0.8617\n",
      "Test Cross Val Score:  0.8311\n",
      "Accuracy = 0.882.\n"
     ]
    }
   ],
   "source": [
    "print(\"RandomizedSearchCV model score:\")\n",
    "print(\"Train Cross Val Score: \",round(cross_val_score(random_rf, X_train, y_train, cv=5).mean(),4))\n",
    "print(\"Test Cross Val Score: \",round(cross_val_score(random_rf, X_test, y_test, cv=5).mean(),4))\n",
    "random_accuracy = evaluate(random_rf, X_test, y_test)"
   ]
  },
  {
   "cell_type": "markdown",
   "id": "f681ade1",
   "metadata": {},
   "source": [
    "From the above result of RandomizedSearchCV, we can see that after hyperparameter tuning, both train and test cross-validation scores has improved as compared to the based model and the accuracy of the model also improved by 1%."
   ]
  },
  {
   "cell_type": "markdown",
   "id": "2ff3ce0a",
   "metadata": {},
   "source": [
    "#### GridSearchCV"
   ]
  },
  {
   "cell_type": "code",
   "execution_count": 58,
   "id": "adcacf11",
   "metadata": {},
   "outputs": [],
   "source": [
    "# GridSearch\n",
    "rf_pipe_gs = Pipeline([\n",
    "    ('tvec', TfidfVectorizer()),\n",
    "    ('rf', RandomForestClassifier())\n",
    "\n",
    "])\n",
    "\n",
    "my_params = {\n",
    "    'tvec__ngram_range': [(1, 1)],\n",
    "    'tvec__min_df': [2, 3],\n",
    "    'tvec__max_features': [5800, 6000, 6200],\n",
    "    'tvec__max_df': [0.9],\n",
    "    'rf__n_estimators': [1100, 1200, 1300, 1600],\n",
    "    'rf__min_samples_split': [3, 5, 7],\n",
    "    'rf__min_samples_leaf': [2, 3, 4],\n",
    "    'rf__max_features': ['log2', 'auto'],\n",
    "    'rf__max_depth': [50, 60, 70, 80],\n",
    "    'rf__bootstrap': [True]\n",
    "    \n",
    "}"
   ]
  },
  {
   "cell_type": "code",
   "execution_count": 59,
   "id": "4ddaf8f3",
   "metadata": {},
   "outputs": [],
   "source": [
    "grid_search = GridSearchCV(rf_pipe_gs, param_grid = my_params, n_jobs=-1, cv = 3, verbose = 2)"
   ]
  },
  {
   "cell_type": "code",
   "execution_count": 60,
   "id": "603d9699",
   "metadata": {},
   "outputs": [],
   "source": [
    "# grid_search.fit(X_train, y_train)"
   ]
  },
  {
   "cell_type": "code",
   "execution_count": 61,
   "id": "4a4242ee",
   "metadata": {},
   "outputs": [],
   "source": [
    "# grid_search.best_estimator_"
   ]
  },
  {
   "cell_type": "code",
   "execution_count": 62,
   "id": "4531e62f",
   "metadata": {},
   "outputs": [],
   "source": [
    "# gs_rf = grid_search.best_estimator_\n",
    "\n",
    "gs_rf_file = './models/gs_rf1.sav'\n",
    "# pickle.dump(gs_rf, open(gs_rf_file, 'wb'))\n",
    "\n",
    "# load the pickled model\n",
    "gs_rf = pickle.load(open(gs_rf_file, 'rb'))"
   ]
  },
  {
   "cell_type": "code",
   "execution_count": 64,
   "id": "63375189",
   "metadata": {},
   "outputs": [
    {
     "name": "stdout",
     "output_type": "stream",
     "text": [
      "GridSearchCV model score:\n",
      "Train Cross Val Score:  0.8627\n",
      "Test Cross Val Score:  0.8301\n",
      "Accuracy = 0.892.\n"
     ]
    }
   ],
   "source": [
    "print(\"GridSearchCV model score:\")\n",
    "print(\"Train Cross Val Score: \",round(cross_val_score(gs_rf, X_train, y_train, cv=5).mean(),4))\n",
    "print(\"Test Cross Val Score: \",round(cross_val_score(gs_rf, X_test, y_test, cv=5).mean(),4))\n",
    "nb_accuracy = evaluate(gs_rf, X_test, y_test)"
   ]
  },
  {
   "cell_type": "markdown",
   "id": "1a61db5a",
   "metadata": {},
   "source": [
    "For GridSearchCV model's result, there is not much improvement in the cross-validation scores as compared to the RandomizedSearchCV model. However, the accuracy did improved by 2% as compared to base model. We will use this model as the final random forest model and compare it with other machine learning models."
   ]
  },
  {
   "cell_type": "code",
   "execution_count": 65,
   "id": "6c520eda",
   "metadata": {},
   "outputs": [
    {
     "name": "stdout",
     "output_type": "stream",
     "text": [
      "Specificity: 0.890020366598778\n",
      "Sensitivity: 0.8943089430894309\n"
     ]
    }
   ],
   "source": [
    "# Get predictions\n",
    "preds_gs_rf = gs_rf.predict(X_test)\n",
    "\n",
    "# Save confusion matrix values\n",
    "tn, fp, fn, tp = confusion_matrix(y_test, preds_gs_rf).ravel()\n",
    "\n",
    "# Calculate the specificity\n",
    "\n",
    "spec = tn / (tn + fp)\n",
    "\n",
    "# Calculate the sensitivity\n",
    "\n",
    "sens = tp / (tp + fn)\n",
    "\n",
    "print('Specificity:', spec)\n",
    "print('Sensitivity:', sens)"
   ]
  },
  {
   "cell_type": "code",
   "execution_count": 66,
   "id": "e192254e",
   "metadata": {},
   "outputs": [
    {
     "data": {
      "image/png": "[encoded data removed]",
      "text/plain": [
       "<Figure size 432x288 with 2 Axes>"
      ]
     },
     "metadata": {
      "needs_background": "light"
     },
     "output_type": "display_data"
    }
   ],
   "source": [
    "# visualize this\n",
    "\n",
    "plot_confusion_matrix(gs_rf, X_test, y_test, cmap='Blues', values_format='d')\n",
    "plt.title('RandomForest - GridSearchCV Confusion Matrix');"
   ]
  },
  {
   "cell_type": "markdown",
   "id": "e6be91cb",
   "metadata": {},
   "source": [
    "### 3.3 Naive Bayes"
   ]
  },
  {
   "cell_type": "code",
   "execution_count": 67,
   "id": "bc8597ed",
   "metadata": {},
   "outputs": [],
   "source": [
    "# Import our model!\n",
    "\n",
    "from sklearn.naive_bayes import MultinomialNB"
   ]
  },
  {
   "cell_type": "code",
   "execution_count": 68,
   "id": "9426e0d9",
   "metadata": {},
   "outputs": [],
   "source": [
    "nb_pipe = Pipeline([\n",
    "    ('tvec', TfidfVectorizer()),\n",
    "    ('nb', MultinomialNB())\n",
    "])"
   ]
  },
  {
   "cell_type": "code",
   "execution_count": 69,
   "id": "6c7ea235",
   "metadata": {},
   "outputs": [],
   "source": [
    "nb_params = {\n",
    "    'tvec__max_features':[2000, 4000, 6000],\n",
    "    'tvec__ngram_range': [(1, 1), (1, 2)], \n",
    "}"
   ]
  },
  {
   "cell_type": "code",
   "execution_count": 70,
   "id": "57a9c12c",
   "metadata": {},
   "outputs": [],
   "source": [
    "nb_gs = GridSearchCV(nb_pipe, param_grid = nb_params, n_jobs=-1, cv = 3, verbose = 2)"
   ]
  },
  {
   "cell_type": "code",
   "execution_count": 71,
   "id": "e040fe3c",
   "metadata": {},
   "outputs": [
    {
     "name": "stdout",
     "output_type": "stream",
     "text": [
      "Fitting 3 folds for each of 6 candidates, totalling 18 fits\n"
     ]
    },
    {
     "data": {
      "text/plain": [
       "GridSearchCV(cv=3,\n",
       "             estimator=Pipeline(steps=[('tvec', TfidfVectorizer()),\n",
       "                                       ('nb', MultinomialNB())]),\n",
       "             n_jobs=-1,\n",
       "             param_grid={'tvec__max_features': [2000, 4000, 6000],\n",
       "                         'tvec__ngram_range': [(1, 1), (1, 2)]},\n",
       "             verbose=2)"
      ]
     },
     "execution_count": 71,
     "metadata": {},
     "output_type": "execute_result"
    }
   ],
   "source": [
    "nb_gs.fit(X_train, y_train)"
   ]
  },
  {
   "cell_type": "code",
   "execution_count": 72,
   "id": "27cb13aa",
   "metadata": {},
   "outputs": [
    {
     "data": {
      "text/plain": [
       "Pipeline(steps=[('tvec', TfidfVectorizer(max_features=4000)),\n",
       "                ('nb', MultinomialNB())])"
      ]
     },
     "execution_count": 72,
     "metadata": {},
     "output_type": "execute_result"
    }
   ],
   "source": [
    "nb_gs.best_estimator_"
   ]
  },
  {
   "cell_type": "code",
   "execution_count": 79,
   "id": "653f48b1",
   "metadata": {},
   "outputs": [
    {
     "name": "stdout",
     "output_type": "stream",
     "text": [
      "Naive Bayes model score:\n",
      "Train Cross Val Score:  0.8803\n",
      "Test Cross Val Score:  0.8383\n",
      "Accuracy = 0.891.\n"
     ]
    }
   ],
   "source": [
    "best_nb = nb_gs.best_estimator_\n",
    "print(\"Naive Bayes model score:\")\n",
    "print(\"Train Cross Val Score: \",round(cross_val_score(best_nb, X_train, y_train, cv=5).mean(),4))\n",
    "print(\"Test Cross Val Score: \",round(cross_val_score(best_nb, X_test, y_test, cv=5).mean(),4))\n",
    "nb_accuracy = evaluate(best_nb, X_test, y_test)"
   ]
  },
  {
   "cell_type": "code",
   "execution_count": 80,
   "id": "064270dc",
   "metadata": {},
   "outputs": [
    {
     "name": "stdout",
     "output_type": "stream",
     "text": [
      "Specificity: 0.8940936863543788\n",
      "Sensitivity: 0.8882113821138211\n"
     ]
    }
   ],
   "source": [
    "# Get predictions\n",
    "preds_nb = best_nb.predict(X_test)\n",
    "\n",
    "# Save confusion matrix values\n",
    "tn, fp, fn, tp = confusion_matrix(y_test, preds_nb).ravel()\n",
    "\n",
    "# Calculate the specificity\n",
    "\n",
    "spec = tn / (tn + fp)\n",
    "\n",
    "# Calculate the sensitivity\n",
    "\n",
    "sens = tp / (tp + fn)\n",
    "\n",
    "print('Specificity:', spec)\n",
    "print('Sensitivity:', sens)"
   ]
  },
  {
   "cell_type": "code",
   "execution_count": 81,
   "id": "735dc5f3",
   "metadata": {},
   "outputs": [
    {
     "data": {
      "image/png": "[encoded data removed]",
      "text/plain": [
       "<Figure size 432x288 with 2 Axes>"
      ]
     },
     "metadata": {
      "needs_background": "light"
     },
     "output_type": "display_data"
    }
   ],
   "source": [
    "# visualize this\n",
    "\n",
    "plot_confusion_matrix(best_nb, X_test, y_test, cmap='Blues', values_format='d');\n",
    "plt.title('NaiveBayes - Confusion Matrix');"
   ]
  },
  {
   "cell_type": "markdown",
   "id": "ee303f32",
   "metadata": {},
   "source": [
    "### 3.4 Logistic Regression"
   ]
  },
  {
   "cell_type": "code",
   "execution_count": 82,
   "id": "18ccde15",
   "metadata": {},
   "outputs": [],
   "source": [
    "from sklearn.linear_model import LogisticRegression\n",
    "\n",
    "logr = LogisticRegression()"
   ]
  },
  {
   "cell_type": "code",
   "execution_count": 83,
   "id": "d5598a68",
   "metadata": {},
   "outputs": [],
   "source": [
    "# Pipeline\n",
    "logr_pipe_gs = Pipeline([\n",
    "    ('tvec', TfidfVectorizer()),\n",
    "    ('logr', LogisticRegression())\n",
    "\n",
    "])"
   ]
  },
  {
   "cell_type": "code",
   "execution_count": 84,
   "id": "81b15a2f",
   "metadata": {},
   "outputs": [],
   "source": [
    "logr_params = {\n",
    "    'tvec__max_features':[2000, 4000, 6000],\n",
    "    'tvec__ngram_range': [(1, 1), (1, 2)], \n",
    "    'logr__penalty': ['l1', 'l2'],\n",
    "    'logr__C': [0.01, 0.1, 1, 10, 100],\n",
    "    'logr__solver': ['lbfgs','saga']\n",
    "}"
   ]
  },
  {
   "cell_type": "code",
   "execution_count": 85,
   "id": "0b1a5417",
   "metadata": {},
   "outputs": [],
   "source": [
    "logr_gs = GridSearchCV(logr_pipe_gs, param_grid = logr_params, n_jobs=-1, cv = 3, verbose = 2)"
   ]
  },
  {
   "cell_type": "code",
   "execution_count": 86,
   "id": "f76c47dc",
   "metadata": {},
   "outputs": [
    {
     "name": "stdout",
     "output_type": "stream",
     "text": [
      "Fitting 3 folds for each of 120 candidates, totalling 360 fits\n"
     ]
    },
    {
     "name": "stderr",
     "output_type": "stream",
     "text": [
      "C:\\Users\\Mingzi\\Anaconda3\\lib\\site-packages\\sklearn\\model_selection\\_search.py:922: UserWarning: One or more of the test scores are non-finite: [       nan        nan        nan        nan        nan        nan\n",
      " 0.50084774 0.49983045 0.50050865 0.50016955 0.49915226 0.50016955\n",
      " 0.83960665 0.84028484 0.84299763 0.847745   0.84265853 0.847745\n",
      " 0.84401492 0.84198033 0.84164123 0.84944049 0.84842319 0.8474059\n",
      "        nan        nan        nan        nan        nan        nan\n",
      " 0.58562224 0.58596134 0.56798915 0.5256019  0.54493048 0.51271617\n",
      " 0.85384876 0.85113598 0.85656155 0.85622245 0.85757884 0.85825704\n",
      " 0.85452696 0.85045778 0.85690064 0.85622245 0.85723974 0.85723974\n",
      "        nan        nan        nan        nan        nan        nan\n",
      " 0.81146151 0.81078332 0.80569685 0.80807053 0.80671414 0.80400136\n",
      " 0.85995253 0.85554425 0.86232621 0.86266531 0.86198711 0.85995253\n",
      " 0.85927433 0.85554425 0.86232621 0.86300441 0.86198711 0.86029162\n",
      "        nan        nan        nan        nan        nan        nan\n",
      " 0.84503221 0.84503221 0.84469312 0.8474059  0.84503221 0.8470668\n",
      " 0.85622245 0.85486606 0.86063072 0.8636826  0.85723974 0.8640217\n",
      " 0.85554425 0.85452696 0.85995253 0.86334351 0.85757884 0.8646999\n",
      "        nan        nan        nan        nan        nan        nan\n",
      " 0.84571041 0.84876229 0.85757884 0.85859613 0.85113598 0.86029162\n",
      " 0.8470668  0.84401492 0.85215327 0.85893523 0.85113598 0.86096982\n",
      " 0.84876229 0.84537131 0.85181417 0.86063072 0.85317057 0.86164802]\n",
      "  warnings.warn(\n"
     ]
    },
    {
     "data": {
      "text/plain": [
       "GridSearchCV(cv=3,\n",
       "             estimator=Pipeline(steps=[('tvec', TfidfVectorizer()),\n",
       "                                       ('logr', LogisticRegression())]),\n",
       "             n_jobs=-1,\n",
       "             param_grid={'logr__C': [0.01, 0.1, 1, 10, 100],\n",
       "                         'logr__penalty': ['l1', 'l2'],\n",
       "                         'logr__solver': ['lbfgs', 'saga'],\n",
       "                         'tvec__max_features': [2000, 4000, 6000],\n",
       "                         'tvec__ngram_range': [(1, 1), (1, 2)]},\n",
       "             verbose=2)"
      ]
     },
     "execution_count": 86,
     "metadata": {},
     "output_type": "execute_result"
    }
   ],
   "source": [
    "logr_gs.fit(X_train, y_train)"
   ]
  },
  {
   "cell_type": "code",
   "execution_count": 87,
   "id": "042f3259",
   "metadata": {},
   "outputs": [
    {
     "data": {
      "text/plain": [
       "Pipeline(steps=[('tvec',\n",
       "                 TfidfVectorizer(max_features=6000, ngram_range=(1, 2))),\n",
       "                ('logr', LogisticRegression(C=10, solver='saga'))])"
      ]
     },
     "execution_count": 87,
     "metadata": {},
     "output_type": "execute_result"
    }
   ],
   "source": [
    "logr_gs.best_estimator_"
   ]
  },
  {
   "cell_type": "code",
   "execution_count": 90,
   "id": "6cc6f71f",
   "metadata": {},
   "outputs": [
    {
     "name": "stdout",
     "output_type": "stream",
     "text": [
      "Logistic Regression model score:\n",
      "Train Cross Val Score:  0.8654\n",
      "Test Cross Val Score:  0.8372\n",
      "Accuracy = 0.885.\n"
     ]
    }
   ],
   "source": [
    "best_logr = logr_gs.best_estimator_\n",
    "print(\"Logistic Regression model score:\")\n",
    "print(\"Train Cross Val Score: \",round(cross_val_score(best_logr, X_train, y_train, cv=5).mean(),4))\n",
    "print(\"Test Cross Val Score: \",round(cross_val_score(best_logr, X_test, y_test, cv=5).mean(),4))\n",
    "nb_accuracy = evaluate(best_logr, X_test, y_test)"
   ]
  },
  {
   "cell_type": "code",
   "execution_count": 91,
   "id": "241b4b66",
   "metadata": {},
   "outputs": [
    {
     "name": "stdout",
     "output_type": "stream",
     "text": [
      "Specificity: 0.8879837067209776\n",
      "Sensitivity: 0.8821138211382114\n"
     ]
    }
   ],
   "source": [
    "# Get predictions\n",
    "preds_logr = best_logr.predict(X_test)\n",
    "\n",
    "# Save confusion matrix values\n",
    "tn, fp, fn, tp = confusion_matrix(y_test, preds_logr).ravel()\n",
    "\n",
    "# Calculate the specificity\n",
    "\n",
    "spec = tn / (tn + fp)\n",
    "\n",
    "# Calculate the sensitivity\n",
    "\n",
    "sens = tp / (tp + fn)\n",
    "\n",
    "print('Specificity:', spec)\n",
    "print('Sensitivity:', sens)"
   ]
  },
  {
   "cell_type": "code",
   "execution_count": 92,
   "id": "a2269433",
   "metadata": {},
   "outputs": [
    {
     "data": {
      "image/png": "[encoded data removed]",
      "text/plain": [
       "<Figure size 432x288 with 2 Axes>"
      ]
     },
     "metadata": {
      "needs_background": "light"
     },
     "output_type": "display_data"
    }
   ],
   "source": [
    "# visualize this\n",
    "\n",
    "plot_confusion_matrix(best_logr, X_test, y_test, cmap='Blues', values_format='d')\n",
    "plt.title('Logistic Regression - Confusion Matrix');"
   ]
  },
  {
   "cell_type": "markdown",
   "id": "f72ba3d5",
   "metadata": {},
   "source": [
    "## 4. Evaluation"
   ]
  },
  {
   "cell_type": "markdown",
   "id": "d36eb7d0",
   "metadata": {},
   "source": [
    "Model Evaluation:\n",
    "\n",
    "1. Random Forest\n",
    "    - Specificity: 0.890\n",
    "    - Sensitivity: 0.894\n",
    "    - Accuracy: 89.2%\n",
    "\n",
    "\n",
    "2. Naive Bayes\n",
    "    - Specificity: 0.894\n",
    "    - Sensitivity: 0.888\n",
    "    - Accuracy: 89.1%\n",
    "\n",
    "\n",
    "3. Logistic Regression\n",
    "    - Specificity: 0.887\n",
    "    - Sensitivity: 0.882\n",
    "    - Accuracy: 88.5%\n",
    "    "
   ]
  },
  {
   "cell_type": "markdown",
   "id": "f66ad3a5",
   "metadata": {},
   "source": [
    "As mentioned earlier in the notebook, we would want to look at models with high specificity and sensitivity. By comparing all three models, both random forest model and naive bayes models have high specificity and sensitivity and also higher accuracy of 89.2% and 89.1% respectively as compared to logistic regression model."
   ]
  },
  {
   "cell_type": "code",
   "execution_count": 119,
   "id": "158cf88a",
   "metadata": {},
   "outputs": [
    {
     "data": {
      "image/png": "[encoded data removed]",
      "text/plain": [
       "<Figure size 1296x288 with 6 Axes>"
      ]
     },
     "metadata": {
      "needs_background": "light"
     },
     "output_type": "display_data"
    }
   ],
   "source": [
    "fig = plt.figure(figsize=(18, 4))\n",
    "ax1 = fig.add_subplot(1,3,1)\n",
    "ax2 = fig.add_subplot(1,3,2)\n",
    "ax3 = fig.add_subplot(1,3,3)\n",
    "\n",
    "\n",
    "plot_confusion_matrix(gs_rf, X_test, y_test, ax=ax1, cmap='Blues', values_format='d')\n",
    "ax1.xaxis.set_ticklabels(['auto', 'tft']); ax1.yaxis.set_ticklabels(['auto', 'tft'])\n",
    "ax1.set_title('RandomForest - GridSearchCV Confusion Matrix')\n",
    "\n",
    "plot_confusion_matrix(best_nb, X_test, y_test, ax=ax2, cmap='Blues', values_format='d')\n",
    "ax2.xaxis.set_ticklabels(['auto', 'tft']); ax2.yaxis.set_ticklabels(['auto', 'tft'])\n",
    "ax2.set_title('NaiveBayes - Confusion Matrix')\n",
    "\n",
    "plot_confusion_matrix(best_logr, X_test, y_test, ax=ax3, cmap='Blues', values_format='d')\n",
    "ax3.xaxis.set_ticklabels(['auto', 'tft']); ax3.yaxis.set_ticklabels(['auto', 'tft'])\n",
    "ax3.set_title('Logistic Regression - Confusion Matrix');\n",
    "\n",
    "# plt.savefig(\"./images/confusion_matrix_evaluation.png\", format=\"png\")"
   ]
  },
  {
   "cell_type": "markdown",
   "id": "d6acea95",
   "metadata": {},
   "source": [
    "By comparing the confusion matrix for all three models, both random forest model and naive bayes model predicted slightly lesser posts classified under the wrong subreddit which makes the random forest and naive bayes the better models out of all three."
   ]
  },
  {
   "cell_type": "code",
   "execution_count": 116,
   "id": "aa513c9f",
   "metadata": {},
   "outputs": [
    {
     "data": {
      "image/png": "[encoded data removed]",
      "text/plain": [
       "<Figure size 432x288 with 1 Axes>"
      ]
     },
     "metadata": {
      "needs_background": "light"
     },
     "output_type": "display_data"
    }
   ],
   "source": [
    "from sklearn import metrics\n",
    "\n",
    "y_pred_rf = gs_rf.predict_proba(X_test)[::,1]\n",
    "y_pred_nb = best_nb.predict_proba(X_test)[::,1]\n",
    "y_pred_logr = best_logr.predict_proba(X_test)[::,1]\n",
    "\n",
    "rf_fpr, rf_tpr, _ = metrics.roc_curve(y_test,  y_pred_rf)\n",
    "nb_fpr, nb_tpr, _ = metrics.roc_curve(y_test,  y_pred_nb)\n",
    "logr_fpr, logr_tpr, _ = metrics.roc_curve(y_test,  y_pred_logr)\n",
    "\n",
    "auc1 = metrics.roc_auc_score(y_test, y_pred_rf)\n",
    "auc2 = metrics.roc_auc_score(y_test, y_pred_nb)\n",
    "auc3 = metrics.roc_auc_score(y_test, y_pred_logr)\n",
    "\n",
    "#create ROC curve\n",
    "plt.plot(rf_fpr,rf_tpr,label=\"AUC_rf=\"+str(round(auc1,3)),linestyle='solid')\n",
    "plt.plot(nb_fpr,nb_tpr,label=\"AUC_nb=\"+str(round(auc2,3)),linestyle='dotted')\n",
    "plt.plot(logr_fpr,logr_tpr,label=\"AUC_logr=\"+str(round(auc3,3)), linestyle='dashdot')\n",
    "\n",
    "# Set limit\n",
    "plt.xlim([0.0, 1.0])\n",
    "plt.ylim([0.0, 1.0])\n",
    "plt.rcParams['font.size'] = 12\n",
    "\n",
    "# Plot random\n",
    "plt.plot([0, 1], [0, 1],'r--')\n",
    "\n",
    "# axis labels\n",
    "plt.xlabel('Specificity')\n",
    "plt.ylabel('Sensitivity')\n",
    "\n",
    "# show title\n",
    "plt.title(\"ROC Curve\")\n",
    "\n",
    "plt.legend(loc=4)\n",
    "plt.show()\n",
    "\n",
    "# plt.savefig(\"./images/roc_curve.png\", format=\"png\")"
   ]
  },
  {
   "cell_type": "markdown",
   "id": "04a4f03a",
   "metadata": {},
   "source": [
    "By plotting the ROC (Receiver Operating Characteristic) curve, we can see the performance of a classification model at all classification thresholds.\n",
    "\n",
    "The AUC (Area Under the ROC Curve) provides an aggregate measure of performance across all possible classification threshold. The AUC ranges in value from 0 to 1 where 1 means that 100% of the predictions are correct. \n",
    "\n",
    "As such, with reference to the above graph, Naive Bayes model has the highest AUC of 0.961 followed by logistic regression and random forest."
   ]
  },
  {
   "cell_type": "markdown",
   "id": "9a3963c6",
   "metadata": {},
   "source": [
    "## 5. Conclusion and Recommendations"
   ]
  },
  {
   "cell_type": "markdown",
   "id": "c7d80fc4",
   "metadata": {},
   "source": [
    "In conclusion, as the dataset does not has data imbalance issue, accuracy would be a good metric in evaluating the best model for classification problem in this case. In the event of imbalanced data, the AUC score would be a better metric. Therefore, by accuracy, both random forest and Naive Bayes models perform well for this classification problem.\n",
    "\n",
    "Recommendations:\n",
    "1. For text preprocessing, we could also look into the misspelled words and also how to deal with non-english languages (chinese, vietnamese, etc,)\n",
    "2. We could also possibly compare with other models such as Support Vector Machine (SVM), Neural Network, Bayesian Network etc.\n",
    "3. Conduct sentiment analysis to determine whether the post is positive, negative or neutral.\n",
    "4. Consider scraping Teamfight Tactics posts with different date as TFT constantly updates their patch. They have updated to Set 7 and each set has a different theme and different units with new class and origin.\n",
    "\n"
   ]
  }
 ],
 "metadata": {
  "kernelspec": {
   "display_name": "Python 3 (ipykernel)",
   "language": "python",
   "name": "python3"
  },
  "language_info": {
   "codemirror_mode": {
    "name": "ipython",
    "version": 3
   },
   "file_extension": ".py",
   "mimetype": "text/x-python",
   "name": "python",
   "nbconvert_exporter": "python",
   "pygments_lexer": "ipython3",
   "version": "3.9.7"
  },
  "vscode": {
   "interpreter": {
    "hash": "ac9057e510a1be59fdb5409af848825da4020ccb3769e4af38bf9849b210622b"
   }
  }
 },
 "nbformat": 4,
 "nbformat_minor": 5
}
